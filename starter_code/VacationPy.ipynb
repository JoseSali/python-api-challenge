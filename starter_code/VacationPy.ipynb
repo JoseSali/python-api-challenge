{
 "cells": [
  {
   "cell_type": "markdown",
   "metadata": {},
   "source": [
    "# VacationPy\n",
    "---\n",
    "\n",
    "## Starter Code to Import Libraries and Load the Weather and Coordinates Data"
   ]
  },
  {
   "cell_type": "code",
   "execution_count": 4,
   "metadata": {},
   "outputs": [],
   "source": [
    "# Dependencies and Setup\n",
    "import hvplot.pandas\n",
    "import pandas as pd\n",
    "import requests\n",
    "\n",
    "# Import API key\n",
    "from api_keys import geoapify_key"
   ]
  },
  {
   "cell_type": "code",
   "execution_count": 5,
   "metadata": {},
   "outputs": [
    {
     "data": {
      "text/html": [
       "<div>\n",
       "<style scoped>\n",
       "    .dataframe tbody tr th:only-of-type {\n",
       "        vertical-align: middle;\n",
       "    }\n",
       "\n",
       "    .dataframe tbody tr th {\n",
       "        vertical-align: top;\n",
       "    }\n",
       "\n",
       "    .dataframe thead th {\n",
       "        text-align: right;\n",
       "    }\n",
       "</style>\n",
       "<table border=\"1\" class=\"dataframe\">\n",
       "  <thead>\n",
       "    <tr style=\"text-align: right;\">\n",
       "      <th></th>\n",
       "      <th>City_ID</th>\n",
       "      <th>City</th>\n",
       "      <th>Lat</th>\n",
       "      <th>Lng</th>\n",
       "      <th>Max Temp</th>\n",
       "      <th>Humidity</th>\n",
       "      <th>Cloudiness</th>\n",
       "      <th>Wind Speed</th>\n",
       "      <th>Country</th>\n",
       "      <th>Date</th>\n",
       "    </tr>\n",
       "  </thead>\n",
       "  <tbody>\n",
       "    <tr>\n",
       "      <th>0</th>\n",
       "      <td>0</td>\n",
       "      <td>faya</td>\n",
       "      <td>18.3851</td>\n",
       "      <td>42.4509</td>\n",
       "      <td>22.06</td>\n",
       "      <td>35</td>\n",
       "      <td>21</td>\n",
       "      <td>2.60</td>\n",
       "      <td>SA</td>\n",
       "      <td>1666108228</td>\n",
       "    </tr>\n",
       "    <tr>\n",
       "      <th>1</th>\n",
       "      <td>1</td>\n",
       "      <td>farsund</td>\n",
       "      <td>58.0948</td>\n",
       "      <td>6.8047</td>\n",
       "      <td>13.30</td>\n",
       "      <td>100</td>\n",
       "      <td>0</td>\n",
       "      <td>7.65</td>\n",
       "      <td>NO</td>\n",
       "      <td>1666108228</td>\n",
       "    </tr>\n",
       "    <tr>\n",
       "      <th>2</th>\n",
       "      <td>2</td>\n",
       "      <td>new norfolk</td>\n",
       "      <td>-42.7826</td>\n",
       "      <td>147.0587</td>\n",
       "      <td>11.72</td>\n",
       "      <td>58</td>\n",
       "      <td>12</td>\n",
       "      <td>1.34</td>\n",
       "      <td>AU</td>\n",
       "      <td>1666108230</td>\n",
       "    </tr>\n",
       "    <tr>\n",
       "      <th>3</th>\n",
       "      <td>3</td>\n",
       "      <td>jamestown</td>\n",
       "      <td>42.0970</td>\n",
       "      <td>-79.2353</td>\n",
       "      <td>5.77</td>\n",
       "      <td>77</td>\n",
       "      <td>100</td>\n",
       "      <td>9.77</td>\n",
       "      <td>US</td>\n",
       "      <td>1666107934</td>\n",
       "    </tr>\n",
       "    <tr>\n",
       "      <th>4</th>\n",
       "      <td>4</td>\n",
       "      <td>lanzhou</td>\n",
       "      <td>36.0564</td>\n",
       "      <td>103.7922</td>\n",
       "      <td>14.53</td>\n",
       "      <td>48</td>\n",
       "      <td>59</td>\n",
       "      <td>1.20</td>\n",
       "      <td>CN</td>\n",
       "      <td>1666108230</td>\n",
       "    </tr>\n",
       "  </tbody>\n",
       "</table>\n",
       "</div>"
      ],
      "text/plain": [
       "   City_ID         City      Lat       Lng  Max Temp  Humidity  Cloudiness  \\\n",
       "0        0         faya  18.3851   42.4509     22.06        35          21   \n",
       "1        1      farsund  58.0948    6.8047     13.30       100           0   \n",
       "2        2  new norfolk -42.7826  147.0587     11.72        58          12   \n",
       "3        3    jamestown  42.0970  -79.2353      5.77        77         100   \n",
       "4        4      lanzhou  36.0564  103.7922     14.53        48          59   \n",
       "\n",
       "   Wind Speed Country        Date  \n",
       "0        2.60      SA  1666108228  \n",
       "1        7.65      NO  1666108228  \n",
       "2        1.34      AU  1666108230  \n",
       "3        9.77      US  1666107934  \n",
       "4        1.20      CN  1666108230  "
      ]
     },
     "execution_count": 5,
     "metadata": {},
     "output_type": "execute_result"
    }
   ],
   "source": [
    "# Load the CSV file created in Part 1 into a Pandas DataFrame\n",
    "city_data_df = pd.read_csv(\"../output_data/cities.csv\")\n",
    "\n",
    "# Display sample data\n",
    "city_data_df.head()"
   ]
  },
  {
   "cell_type": "markdown",
   "metadata": {},
   "source": [
    "---\n",
    "\n",
    "### Step 1: Create a map that displays a point for every city in the `city_data_df` DataFrame. The size of the point should be the humidity in each city."
   ]
  },
  {
   "cell_type": "code",
   "execution_count": 6,
   "metadata": {},
   "outputs": [
    {
     "name": "stderr",
     "output_type": "stream",
     "text": [
      "WARNING:param.GeoPointPlot01719: Specified size dim transform (np.sqrt(dim('City_Population'))*0.05) could not be applied, as not all dimensions could be resolved.\n"
     ]
    },
    {
     "data": {},
     "metadata": {},
     "output_type": "display_data"
    },
    {
     "data": {
      "application/vnd.holoviews_exec.v0+json": "",
      "text/html": [
       "<div id='p1007'>\n",
       "  <div id=\"c29a1f50-8628-4d17-b589-e04b41cc1495\" data-root-id=\"p1007\" style=\"display: contents;\"></div>\n",
       "</div>\n",
       "<script type=\"application/javascript\">(function(root) {\n",
       "  var docs_json = {\"22735846-99c8-4aa7-a1d5-d97e366a2794\":{\"version\":\"3.3.0\",\"title\":\"Bokeh Application\",\"roots\":[{\"type\":\"object\",\"name\":\"Row\",\"id\":\"p1007\",\"attributes\":{\"name\":\"Row01689\",\"tags\":[\"embedded\"],\"stylesheets\":[\"\\n:host(.pn-loading.pn-arc):before, .pn-loading.pn-arc:before {\\n  background-image: url(\\\"data:image/svg+xml;base64,PHN2ZyB4bWxucz0iaHR0cDovL3d3dy53My5vcmcvMjAwMC9zdmciIHN0eWxlPSJtYXJnaW46IGF1dG87IGJhY2tncm91bmQ6IG5vbmU7IGRpc3BsYXk6IGJsb2NrOyBzaGFwZS1yZW5kZXJpbmc6IGF1dG87IiB2aWV3Qm94PSIwIDAgMTAwIDEwMCIgcHJlc2VydmVBc3BlY3RSYXRpbz0ieE1pZFlNaWQiPiAgPGNpcmNsZSBjeD0iNTAiIGN5PSI1MCIgZmlsbD0ibm9uZSIgc3Ryb2tlPSIjYzNjM2MzIiBzdHJva2Utd2lkdGg9IjEwIiByPSIzNSIgc3Ryb2tlLWRhc2hhcnJheT0iMTY0LjkzMzYxNDMxMzQ2NDE1IDU2Ljk3Nzg3MTQzNzgyMTM4Ij4gICAgPGFuaW1hdGVUcmFuc2Zvcm0gYXR0cmlidXRlTmFtZT0idHJhbnNmb3JtIiB0eXBlPSJyb3RhdGUiIHJlcGVhdENvdW50PSJpbmRlZmluaXRlIiBkdXI9IjFzIiB2YWx1ZXM9IjAgNTAgNTA7MzYwIDUwIDUwIiBrZXlUaW1lcz0iMDsxIj48L2FuaW1hdGVUcmFuc2Zvcm0+ICA8L2NpcmNsZT48L3N2Zz4=\\\");\\n  background-size: auto calc(min(50%, 400px));\\n}\",{\"type\":\"object\",\"name\":\"ImportedStyleSheet\",\"id\":\"p1010\",\"attributes\":{\"url\":\"https://cdn.holoviz.org/panel/1.3.8/dist/css/loading.css\"}},{\"type\":\"object\",\"name\":\"ImportedStyleSheet\",\"id\":\"p1091\",\"attributes\":{\"url\":\"https://cdn.holoviz.org/panel/1.3.8/dist/css/listpanel.css\"}},{\"type\":\"object\",\"name\":\"ImportedStyleSheet\",\"id\":\"p1008\",\"attributes\":{\"url\":\"https://cdn.holoviz.org/panel/1.3.8/dist/bundled/theme/default.css\"}},{\"type\":\"object\",\"name\":\"ImportedStyleSheet\",\"id\":\"p1009\",\"attributes\":{\"url\":\"https://cdn.holoviz.org/panel/1.3.8/dist/bundled/theme/native.css\"}}],\"margin\":0,\"sizing_mode\":\"stretch_width\",\"align\":\"start\",\"children\":[{\"type\":\"object\",\"name\":\"Spacer\",\"id\":\"p1011\",\"attributes\":{\"name\":\"HSpacer01695\",\"stylesheets\":[\"\\n:host(.pn-loading.pn-arc):before, .pn-loading.pn-arc:before {\\n  background-image: url(\\\"data:image/svg+xml;base64,PHN2ZyB4bWxucz0iaHR0cDovL3d3dy53My5vcmcvMjAwMC9zdmciIHN0eWxlPSJtYXJnaW46IGF1dG87IGJhY2tncm91bmQ6IG5vbmU7IGRpc3BsYXk6IGJsb2NrOyBzaGFwZS1yZW5kZXJpbmc6IGF1dG87IiB2aWV3Qm94PSIwIDAgMTAwIDEwMCIgcHJlc2VydmVBc3BlY3RSYXRpbz0ieE1pZFlNaWQiPiAgPGNpcmNsZSBjeD0iNTAiIGN5PSI1MCIgZmlsbD0ibm9uZSIgc3Ryb2tlPSIjYzNjM2MzIiBzdHJva2Utd2lkdGg9IjEwIiByPSIzNSIgc3Ryb2tlLWRhc2hhcnJheT0iMTY0LjkzMzYxNDMxMzQ2NDE1IDU2Ljk3Nzg3MTQzNzgyMTM4Ij4gICAgPGFuaW1hdGVUcmFuc2Zvcm0gYXR0cmlidXRlTmFtZT0idHJhbnNmb3JtIiB0eXBlPSJyb3RhdGUiIHJlcGVhdENvdW50PSJpbmRlZmluaXRlIiBkdXI9IjFzIiB2YWx1ZXM9IjAgNTAgNTA7MzYwIDUwIDUwIiBrZXlUaW1lcz0iMDsxIj48L2FuaW1hdGVUcmFuc2Zvcm0+ICA8L2NpcmNsZT48L3N2Zz4=\\\");\\n  background-size: auto calc(min(50%, 400px));\\n}\",{\"id\":\"p1010\"},{\"id\":\"p1008\"},{\"id\":\"p1009\"}],\"margin\":0,\"sizing_mode\":\"stretch_width\",\"align\":\"start\"}},{\"type\":\"object\",\"name\":\"Figure\",\"id\":\"p1032\",\"attributes\":{\"width\":null,\"height\":null,\"margin\":[5,10],\"sizing_mode\":\"fixed\",\"align\":\"start\",\"x_range\":{\"type\":\"object\",\"name\":\"Range1d\",\"id\":\"p1021\",\"attributes\":{\"tags\":[[[\"Longitude\",\"Longitude\",null]],[]],\"start\":-22937709.89903198,\"end\":22954407.822650976,\"reset_start\":-22937709.89903198,\"reset_end\":22954407.822650976,\"min_interval\":5}},\"y_range\":{\"type\":\"object\",\"name\":\"Range1d\",\"id\":\"p1022\",\"attributes\":{\"tags\":[[[\"Latitude\",\"Latitude\",null]],{\"type\":\"map\",\"entries\":[[\"invert_yaxis\",false],[\"autorange\",false]]}],\"start\":-13627722.626033377,\"end\":20791365.665228847,\"reset_start\":-13627722.626033377,\"reset_end\":20791365.665228847,\"min_interval\":5}},\"x_scale\":{\"type\":\"object\",\"name\":\"LinearScale\",\"id\":\"p1042\"},\"y_scale\":{\"type\":\"object\",\"name\":\"LinearScale\",\"id\":\"p1043\"},\"title\":{\"type\":\"object\",\"name\":\"Title\",\"id\":\"p1035\",\"attributes\":{\"text_color\":\"black\",\"text_font_size\":\"12pt\"}},\"renderers\":[{\"type\":\"object\",\"name\":\"TileRenderer\",\"id\":\"p1065\",\"attributes\":{\"level\":\"underlay\",\"tile_source\":{\"type\":\"object\",\"name\":\"WMTSTileSource\",\"id\":\"p1061\",\"attributes\":{\"url\":\"https://c.tile.openstreetmap.org/{Z}/{X}/{Y}.png\",\"attribution\":\"&copy; <a href=\\\"https://www.openstreetmap.org/copyright\\\">OpenStreetMap</a> contributors\"}}}},{\"type\":\"object\",\"name\":\"GlyphRenderer\",\"id\":\"p1081\",\"attributes\":{\"name\":\"color\",\"data_source\":{\"type\":\"object\",\"name\":\"ColumnDataSource\",\"id\":\"p1070\",\"attributes\":{\"selected\":{\"type\":\"object\",\"name\":\"Selection\",\"id\":\"p1071\",\"attributes\":{\"indices\":[],\"line_indices\":[]}},\"selection_policy\":{\"type\":\"object\",\"name\":\"UnionRenderers\",\"id\":\"p1072\"},\"data\":{\"type\":\"map\",\"entries\":[[\"Lng\",{\"type\":\"ndarray\",\"array\":{\"type\":\"bytes\",\"data\":\"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\"},\"shape\":[577],\"dtype\":\"float64\",\"order\":\"little\"}],[\"Lat\",{\"type\":\"ndarray\",\"array\":{\"type\":\"bytes\",\"data\":\"06r/c3HHP0FYpnmeDnheQW58Nus2I1TB3jSmKji+U0He7vksaG9QQZBY2qKC71vBr1SW7jgIVEHexZ5KutBFwWjwkXSbVmNByCa6Y7+OQsGwPAFnTe5DweAIcM6wyl9BgCPZ4mhIFsGxqzMu9cNeQSFIeUHW42pBFZg93xQrVsF4iJDtAWVmQSlwOeSLo2JB1M91v0s0ZkFipIGIzBf0wMS9AOsQcELBjQJOGwFJSEHUTeHp5Cc8wWF2TLEWMUTBZ+rg0QMmYUEO5mcCnQ5QwYrrupdDildBjHx4aOqmQcG+0PBdjnZSQZgvNziZIDxBWGBM2xseUEFOafLV3W5bQWphBpBNqU7BDXoKg6WPXkHSPg2T5I8cwS1++NzagmVBzicc5GlRV0HbuDxMFgBhQRvpZEa1cSfB2Iq2iBVIQUFVE2nkEGhlQWRi26wU1ULB+Ss3HT+EWUGiF9RE+pxTwTun/R67z09B9KYbJfY6Q0G/fuDOBbALQdmUISfndFNBoPRysUsBSMGxN6FRkDFUwdIEVw5Mf2dBdkrfwgYZQUEOQML/GqkWQQoBABzpbVZBQTbdPj9uQsG/2oeGuMcgQT8pZlmhwWBBzzWSYNMOY0GiSLR6+7tNwTMLyusmYU7BqsuNZepyLsGObv3408FhQbsV1tZk8GVBuM12c9xkRkHx22GHYbowwdf5CF3VKk/BFd7Frml4UcEvZwhw1JM+wc0yJj7ofU/B1y4aqcRIT8F/PTs7rwUlwZEkxcy+2DLB9DYmmHYLWEHhBlZmsA5LQUjuX3g9XGZBBbh0SIi/ZEEAf5W3v6VYQTg169yRPUXBB15Upvq2XUHMc1aUD7ZBwY36Hi++9VxBkjISjYWQQkEtSH4ogcFaQbLTl43SmU7BaGA95bB7TUF9e7KsKwViQWuWJRrJ9kvBRbVSyjqTQsGPALSIxWFNQeUDNfIfEllB6WDWuz79UEGP+1N6ePZZQdjcQ7zvyV9Bg+06LUpII0GvSGgRot8UQXVfcIgzDTJBCe2Pqs75UUHzMe9wOrBKQZecMvmC4RPBIsnfVho6LUFuHi3Znb5FwZ8wPV6UwFhBFhk2EGOuWcHpp+ZZfn08wf2VVKNIa1bBtm+PMS9rOcGFy0Q6Le1TQZJKhDCj4UTBvUqsEYe2YUGj+nO/WkNRwXLrgIPNcC5ByZA+8KyXOUE0PIHGuxVXQcPvrX5VfxHBzUDE4i8oRUHrulvBs0tRQSUDPc5WbENBJgynE5hkPMHfW6DCpwxEwaIg7KSOTvDAVVinmKRRTsFkm1ZQTQZLQXGKM7wGzGRBrZXOiRygXUGWuwvF7cAswV+CduYM/UNBimNGDnVtTsEJPmtY44JZQcubnUpdLlFB4ggHgnvmNUFPRZB/bAwdwYYLu+bYpF1Bo9ToDHq+WsEZfpfERZxUQajKlbMLeFZB2iOxMh4gGcHwpJcXTWxQwRujUV5Cp07Bkzj1UdTpOEEM3PQEC2kiQaqXgicBx2RB32jCr87kSkHhY4xx5zRSQePBuyc9Y0hBIGYat4OkT0Gv8QxVXZxcQc2hjkMpRUlBufal2B9hUcFpmk/IQGJhQR55M+i1Y1RB6Yz1hyPfT8GlZhYUItH4wJc7zo0fJ0JBIYQlAHGfYkHngIUBXg4kQUyuYfQf6mJBX1uOTgHUNEFCNo6wEUI+wXeXocwBU1dB6m6DxiCHScFvz33EA5kdwcPGNtDyGmFBli2f6t/ANsFGM4Fkyks7wYggVp/sfjfB3DF4D1+fNsGQhxJjW0YvwS0lY9UROVbBrAD5ef8WXkGIYAkW+N9gQQ87T+F6rkNBkFgycVEoXEGhWWK4KPhIwTQ/YuCK70BBNo9fT13qTUE4fZA4QZQ4QXnjbAjfWUDBKcXQoQtGYkGnRh8E/71YQeyuyLOB7SxB+rq6KgMUYkF/pqihokxXQb3AwUxO61tBOwVmE0X4ZkGCtEexjvMZQdo/QB4Dvz/BkVgBqyY4ScGzgteMGzBCwTpjcpKevU7Bn/kcjv5YQcG1mxpuchs9QYZ4HyPTTyHBtERVefWsDUGprKY5SL4uwacf0vHP/l9BnBdICwEKUkHH2/NblS9RQeQ9c55wUkxBEjOBP43DK8HO8jn18lBWQTQ/YuCK70DBA7Q0FW/tZEGMiw0sr9xiQcZsivegOV5BCA0tjm61YkFl2JXFNMJNwaU0ZlXAv2BBVWBTsPgcMMGxRTklzSAcQQEMg8Ovs01BdyiGqcTiQ0FYj4i5V7JRQSdSPS58VFNBrB3KIh/zXkGTTitvy35HwTNECGedryHBSHQu3Rq7XEHvacii8HFAwRYJLuUaNVFBeXLxlUQpQUGIPNUUwo4XQTGylFvzPBLBzpH6kjZfYEEe763gLndUQdLvMSD7y1dBPGDXWOrEWEEt/wlsxgH4wNOT8r2goWtBB7+JotbNSEE2KCsqh3cqQZaISV8pVWBBGNIUAwSsTUFwujTUDHhiQfJPRSGGMO9A6U/cmFURMMHRxLQNdiBAwdlBT2hbBDTBhIChpdtTQcHDGR/lnwpEwVYbNGM0cFTBT9ASJlXIR0F78JWqF2YGQcxoG/icMFNBlZUZBC81WEHbp6+RZqlMwT/CaOKzW2RB9Ut2xPesWkEqjw99nuUnQe/f9pUFP1pBRNHaiSd4R0Hibu5hsrdgQb7neNWXOCtB0T4gKdyGFUEYmPybnU8uQd/BF4PZikJBQYW3AKCHQcFRTnXYrmZKweOzoXt2ni9B9F5IXgn4VcEy8e8a2FAMwVRk/AMEDWRBPC6b757NTUE+gP6SkKNcQQZQt/wy2CRBM8+4mwt0U0HDTpMHgTRLQRFB7pj0nFHB2IdwLKRyWEEL4gSR5xpTQSJKdvuawlVBfKNE+TjxYEH28d4zJq9KwaWWRoAqoEBBOEoWYl2MYEHuD9UNyj5iQV8PJ782q0JBDBOOU6dtRkEb/uDTQ7NKQVMGx7jVsF9Bv/1QaQxEUEFutUerhWtSQWx2mRvCIVbBRf8Ae7P7J0HxGU21BTNgQeCVOiHwP0zByoj1FmbYUMFmlwb0GqM5QXmQk784JSZB04ayE5S6UkGlwIZ25Iw1QZYQOgr82WRBQYH9N+JoRkGGIdlcRHBTQZjo4/EfS1VB/09oNwc/NkHmnZ8CxYQVQSpJkMxJyUlBkfVzhOIyK0Hp4tG8kHVSwWqnC/Cm111BQQ2ScjeHGsGxA5PV/pNYQR0Of1JDz0HB5pUrF2+6RMF+VY1QqCVRQV/sQN3o9k9BeuSKXDtBYkHlx/9qyNo/QYyqZwy79i7B5g7LAma/YkFlufpzQlBSQeWPYSlNH2VBMTz9zHYFQkHeYQO/8hpRwX8sjZkrTVlBKgxSjAjGQ8FvZqic1KY2QcFbBNcWVj1BK1F+wn7mWUGJF7A44Hw4wSE0UgJOdz5B3LAeYMIeOsETsTThWMFhQTLyoKgOvGRBrTpR2TNZVkGhTDHmML9MwQgqtKdKVllBSEMXOnCiZEE+S2zGKO5SQWFFvO5g6ErBEQAtGZquN0HTnrKGcwNaQX4lGMDdO0/BYEWFWbFADcF5oxbibp1CQUYdm++22VpBt0AiIzX5VcGH4trclAFCwYMHXDTZNT7B0R4FB7QIWUHU2JWg6yFIQfUIAe6gd1lBZdda9+iSU0HkRkpfsVJbQaLGWwz8tVdBQq1AuYb1VkECUfAxvEEjQXKsp1+zc1RBlc/u95XEGkFqY2kCYCcwQYKhc/YVKlBBEW7ZhQy7TcHxdfPEgKtaQQ3c2cvgo0HB/27qmCTXGcEOvofJphgwwT73Cv15OjbB+K3WEt/wT8GFnSZa63ZOQSuoAtfujFNBkOm3pz/jUUHE/VXEr98+wb96PjaqIFlBZXcEEAqNRkHia7XeYQ5ZQbcV3sVUXllBT3rjbN8UHkHE06BX63RVQee7r0YznmNBsJOYvY69X0FMYamBacJcQcY/qD3hmzTBOMQORBeTVMEMEw9PLVxDwfpjunvkz2BB0VSCL92gQcFMjuXrKeVSQQ9QcB9tdD1BlYRFltDrW0E5iqT/obpfQeTIaPx2KkbBZNKFDTUNQsGhLBXDp+tcQZIMwaQUVRfBLZo2o+XLQUFJxRjxl/QzQW9DLFq2zFJBPncTY6G/UUGLeFOjHGZkQdJpl+SMMEdBgBj5aKOM88CwVg5GIE5WQfWsOFDkkGFBVnYp+lA5NkG1XBTbUKNaQdjTMO76+FlB/lmqvK3WYkG9gCXIpMxRQSVNXOHftmRBSCuMY8doT8FHrrcHD+VgQZKb0QyyHFJBDxCP07Y8UUERpUnGQ6JQQUttLtsZ/F5BO58aAEzzUUGL0n6rw8hhQSFWiZZteFxB/XSrgfRON0FOmrklsxtSQaIg7KSOTvBAgz8nMcXdUUHGkkXBmoliQQxIf7/BPSTBOg32b/9cL0F7UuYmFoBSQTIam6NVuRlBGeNkFOf6Q0FSNw6yDDVDQb4p69poOEbBUtMltjjuQcG/lk/OBlBUQTUEnOypgAnBLVXN5q74PsHKQgN/Yz0AwepWM94ff1RBNyQKIQkVYEGsHKj10ec1wfGtG2ubpFRBy+Oko4x9C8FAsjXg1MhQQVGKdwltxifB77kozoB/LcEbQC1sPPQHwWTIzRXA1FNB+t1wE4g4YEExCBETl1JNQVbWF1LQG1DBbstwj2nWW0FpDz+JRM4gwdeHXIVL3izBa1jBnEIWUkH2PF+B/tpTQU0fmdxzr15Be5xiVfH87ECy3ZYomZkMwRVy8Vf15lFBFnEe5eW+ZUE4f8JayfRjQQXPOiqLfkDB6ovGViVzUEEPUrDn5W5RQbMJVt6T9E3BLlB4KslMRkGtMqVcfoVBQeeJAcv6JilByC//Q9f5QUE3Hx5WRSs+QdZIPx1OMkNBv/4h+SS8WUF4UqTD1hBQwZRERd8qbDzBxIGFpaD3MsEWdcQ1MWtCwfjC40TxyUfB3Hv5L1gzQcGRwem2c3o/QWd6GSqAamBBY5aMZrsHTUGbvmfrdgNbQQRyxW35WkBBT6kZX3LbMcGJwuk/U50+wfI3Z/8QjQxBHQ/hlJ/bQ0H9F4+9TOMWwUarMqZZ11NBnwFtP4k7PcHd4CRRohhMwWaXBvQaozlBmdVZtW4iY0G5iHDKXiQ1QdPrFiC+K0xBceKFVxi4VkFHQ7ZJRAFjQSz2aeHoM1BBR/KjVTCAWkG4KAYKOGxeQSNW3dqgSVFBFaYFMXlhYUFAbuNHcDdcQVt5lwN1FU5BiB93pLwnIEFwWU0XSLhjQTVIXlzoEFJBAtxgI6dKUEE5w6J7i1xPQZHAQY8Vn2FBnccEyH+QNkHhEHtqZlNZQQ1XdmXvuFlB8ePgFwNpC0Gcme3CGDZXQUisj5QY5VRBO+JxDcpHU0GOwbPZfv9UQfReSF4J+FVBW6H6uER6JME8Z2DI3wpgQd60f3V7ZkJBGVGUn+QLS0Fu9/eIqG5BwRRs1u05xltBDd088zeJQEEHe5mM1ApZQZt2pD8XrS9BPiAv3PbDSEGM1JavfzMwQdB2XFuQrkTBzGPHfRZRUUFtiUpcmRBEQVkF9o3aKj3BNXkFUyLBTkGFhEwAIX9EQShe6lKkbkPBKA3G9CXAT0F+VY1QqCVRQczsqE+jeVxBSiSpIG1aU8HGzn7lw2EnQaYU+VW32hJBLBGyGuqoT8GhNl/ByOdVQTrIbiwpVDFBDNHwvG+cW0E7vpN0wwVSQS+FtnySL0JBBnIBjPmeVEGLiFSaWSBdQbu3+hH95UTBu+c96ZLIUMExv0AgjUZaQe7jofKPKEBBgSsmxoWrMUE0XwztMmpJwTkdTP3uuDnB/oXalacLU0HdKUmUUpBQQSW+XYdzyFNBmkFqv36AIEE0/UQoM6lGQWuAPm/9509BVfU810YYK8Ffapy1VMz5wJST9gqs7VJBmEexj8jQV0E9AohHGb1jQTx9U8XymFlBCqXaj0PQY0FlKIXl/2RPQQ/f7YQCZlJBPgPeFEj3PMHHfSJDnbn6wMesW+z7zETB1jCfme0WV0GvN/JFlk5RQV5aBAVv8DTB/Ll5T2XzQEE9ElCy7NU/QVkaBlKQAzFB5gcu5jCjYkExhaTb3V5QwYe8QkqUnGBBWfxdhfE+XEFTT/AnjaY0QUqwdRKjikHByoSxi4iNQcE=\"},\"shape\":[577],\"dtype\":\"float64\",\"order\":\"little\"}],[\"City\",[\"faya\",\"farsund\",\"new norfolk\",\"jamestown\",\"lanzhou\",\"ushuaia\",\"albany\",\"carnarvon\",\"sisimiut\",\"saint-pierre\",\"colorado\",\"nikolskoye\",\"trairi\",\"dobryanka\",\"qaanaaq\",\"mataura\",\"khatanga\",\"tasiilaq\",\"tiksi\",\"puerto ayora\",\"avarua\",\"nuevo laredo\",\"guiratinga\",\"rikitea\",\"dukat\",\"constitucion\",\"senneterre\",\"bambous virieux\",\"zangakatun\",\"saint-louis\",\"midwest city\",\"grimmen\",\"cape town\",\"stornoway\",\"naberera\",\"chokurdakh\",\"drochia\",\"klaksvik\",\"labuhan\",\"tomatlan\",\"clyde river\",\"sao joao da barra\",\"margate\",\"ancud\",\"collierville\",\"kapaa\",\"mogadishu\",\"tsalka\",\"dalby\",\"hobart\",\"dikson\",\"hilo\",\"businga\",\"lasa\",\"vaini\",\"cayenne\",\"ust-kulom\",\"udachnyy\",\"east london\",\"busselton\",\"airai\",\"grindavik\",\"barrow\",\"banda\",\"atuona\",\"hermanus\",\"mar del plata\",\"caravelas\",\"port lincoln\",\"bredasdorp\",\"mendi\",\"cobija\",\"deer lake\",\"nalut\",\"saskylakh\",\"dudinka\",\"zamberk\",\"jaguariaiva\",\"aberdeen\",\"mahebourg\",\"kedrovyy\",\"makakilo city\",\"qostanay\",\"esperance\",\"darnah\",\"provideniya\",\"rafaela\",\"saint-philippe\",\"ponta do sol\",\"solnechnyy\",\"saint george\",\"alba\",\"arman\",\"ugoofaaru\",\"butaritari\",\"kavaratti\",\"zhangye\",\"shenjiamen\",\"itarema\",\"trincomalee\",\"castro\",\"heihe\",\"rio gallegos\",\"siavonga\",\"bluff\",\"nova olimpia\",\"palencia\",\"inhambane\",\"iqaluit\",\"lebu\",\"calabozo\",\"sao filipe\",\"torbay\",\"kavieng\",\"yidu\",\"cedar city\",\"victoria\",\"faanui\",\"arraial do cabo\",\"hithadhoo\",\"port alfred\",\"lichuan\",\"talnakh\",\"novorzhev\",\"muncar\",\"jashpurnagar\",\"chuy\",\"kulykivka\",\"half moon bay\",\"bocana de paiwas\",\"el alto\",\"sitka\",\"punta arenas\",\"bay city\",\"baruun-urt\",\"ambon\",\"corowa\",\"port elizabeth\",\"ocos\",\"georgetown\",\"tuktoyaktuk\",\"brenham\",\"peniche\",\"tawang\",\"havelock\",\"novobelokatay\",\"puerto del rosario\",\"mount gambier\",\"rindal\",\"roseburg\",\"kaeo\",\"biak\",\"kahului\",\"lavrentiya\",\"sabang\",\"pangnirtung\",\"corn island\",\"innisfail\",\"almaznyy\",\"geraldton\",\"kokopo\",\"yellowknife\",\"sao miguel do araguaia\",\"belmonte\",\"pisco\",\"ambilobe\",\"aripuana\",\"kaitangata\",\"lesnoy\",\"evensk\",\"sur\",\"la ronge\",\"danielskuil\",\"chunhuhub\",\"avera\",\"ouallam\",\"challapata\",\"olafsvik\",\"neepawa\",\"freetown\",\"nome\",\"hovd\",\"ugra\",\"upernavik\",\"sembakung\",\"shakawe\",\"upington\",\"gwanda\",\"kruisfontein\",\"grand gaube\",\"cacahuatepec\",\"paita\",\"bumba\",\"maragogi\",\"kosa\",\"lagoa\",\"cabra\",\"gat\",\"buala\",\"asau\",\"isangel\",\"pevek\",\"husavik\",\"kodiak\",\"zyryanka\",\"valparaiso\",\"baykit\",\"port moresby\",\"meulaboh\",\"nakamura\",\"simao\",\"laguna\",\"bethel\",\"kodinsk\",\"luderitz\",\"touros\",\"glasgow\",\"ladario\",\"sao teotonio\",\"puri\",\"yumbe\",\"pangkalanbuun\",\"hay river\",\"verkhniye achaluki\",\"terrace bay\",\"ust-koksa\",\"sorong\",\"longyearbyen\",\"san patricio\",\"san cristobal\",\"lensk\",\"carrollton\",\"norman wells\",\"makokou\",\"llata\",\"neiafu\",\"moroni\",\"cap malheureux\",\"walvis bay\",\"rawson\",\"tikaitnagar\",\"sembe\",\"aksu\",\"russkaya polyana\",\"broken hill\",\"cherskiy\",\"beya\",\"goba\",\"ordzhonikidze\",\"high rock\",\"floro\",\"balabac\",\"bintulu\",\"tchaourou\",\"zhongshan\",\"quatre cocos\",\"prieska\",\"pathanamthitta\",\"comodoro rivadavia\",\"sungaipenuh\",\"aklavik\",\"camacha\",\"thompson\",\"hambantota\",\"swanton\",\"san quintin\",\"codrington\",\"chapais\",\"chengde\",\"portland\",\"berdigestyakh\",\"coquimbo\",\"samana\",\"anchorage\",\"fairbanks\",\"cockburn town\",\"tura\",\"sakakah\",\"ola\",\"hasaki\",\"jiuquan\",\"tuatapere\",\"kloulklubed\",\"ust-maya\",\"san juan\",\"whitianga\",\"praia\",\"okitipupa\",\"monmouth\",\"san andres\",\"lyngseidet\",\"dunmore town\",\"galegos\",\"kamen-rybolov\",\"dabat\",\"camopi\",\"jalu\",\"eyl\",\"valdivia\",\"teguldet\",\"aquiraz\",\"ulaangom\",\"souillac\",\"alice springs\",\"koriyama\",\"kingman\",\"college\",\"la romana\",\"daru\",\"boden\",\"carroll\",\"ust-kuyga\",\"bucerias\",\"tandil\",\"horsham\",\"vao\",\"bathsheba\",\"salalah\",\"harwich\",\"sambava\",\"yarada\",\"namibe\",\"kokkola\",\"leningradskiy\",\"vostok\",\"rio grande\",\"chegdomyn\",\"ilulissat\",\"viseu\",\"cidreira\",\"bafoulabe\",\"swan river\",\"rocha\",\"juruti\",\"kailua\",\"verkh-suetka\",\"dunedin\",\"mount isa\",\"mahina\",\"kamloops\",\"santa rosalia\",\"nerchinskiy zavod\",\"torrington\",\"krutikha\",\"bonavista\",\"zaysan\",\"mana\",\"nemuro\",\"mandera\",\"numan\",\"pingliang\",\"saldanha\",\"petropavlovsk-kamchatskiy\",\"vila velha\",\"bengkulu\",\"honiara\",\"pemba\",\"ahipara\",\"shingu\",\"korla\",\"lerik\",\"quelimane\",\"katyuzhanka\",\"narwar\",\"port hardy\",\"sol-iletsk\",\"tabou\",\"saint anthony\",\"srednekolymsk\",\"homer\",\"livingston\",\"lima\",\"christchurch\",\"beitbridge\",\"kortkeros\",\"port hedland\",\"fortuna\",\"dicabisagan\",\"smithers\",\"peleduy\",\"yulara\",\"roebourne\",\"mariinskiy posad\",\"mayumba\",\"adrar\",\"port blair\",\"komsomolskiy\",\"ribeira grande\",\"qasigiannguit\",\"buraydah\",\"port-gentil\",\"saint-francois\",\"vestmannaeyjar\",\"bogande\",\"quesnel\",\"usman\",\"aykhal\",\"carlyle\",\"kayerkan\",\"moron\",\"paamiut\",\"hamilton\",\"seoul\",\"woodward\",\"georgiyevskoye\",\"mayo\",\"kysyl-syr\",\"tashara\",\"acajutla\",\"capoterra\",\"muisne\",\"praia da vitoria\",\"maniitsoq\",\"kalemie\",\"tagusao\",\"mao\",\"mahibadhoo\",\"cabo san lucas\",\"panuco\",\"hervey bay\",\"fayaoue\",\"stolac\",\"gamboma\",\"rundu\",\"carutapera\",\"port-de-bouc\",\"nanortalik\",\"dzaoudzi\",\"aktau\",\"lorengau\",\"pachino\",\"cabedelo\",\"denpasar\",\"ipixuna\",\"broome\",\"tilichiki\",\"lakki marwat\",\"veinticinco de mayo\",\"avdon\",\"katobu\",\"merauke\",\"yangliuqing\",\"tieling\",\"togur\",\"thinadhoo\",\"terra santa\",\"colares\",\"havoysund\",\"ostrovnoy\",\"alofi\",\"samandag\",\"san joaquin\",\"treinta y tres\",\"nazareno\",\"tessalit\",\"yaan\",\"ixtapa\",\"dong hoi\",\"harindanga\",\"pontypool\",\"ulladulla\",\"la paz\",\"hualmay\",\"barroso\",\"vryburg\",\"beira\",\"the valley\",\"narsaq\",\"juegang\",\"verkhniy avzyan\",\"araouane\",\"kirakira\",\"tautira\",\"singkang\",\"taitung\",\"nabire\",\"chifeng\",\"caiaponia\",\"salto\",\"praya\",\"aksarka\",\"abu zabad\",\"kushima\",\"beaune\",\"egvekinot\",\"greenville\",\"ust-ordynskiy\",\"tranas\",\"pleasanton\",\"beringovskiy\",\"newcastleton\",\"hirado\",\"brokopondo\",\"batagay\",\"laurel\",\"statesville\",\"tikrit\",\"iisalmi\",\"lahij\",\"derzhavinsk\",\"kyren\",\"kapit\",\"altay\",\"waseca\",\"nantucket\",\"cadillac\",\"sfantu gheorghe\",\"kundiawa\",\"gornopravdinsk\",\"bhandara\",\"wadi musa\",\"charters towers\",\"ustka\",\"sawakin\",\"severo-kurilsk\",\"rameswaram\",\"guerrero negro\",\"bandarbeyla\",\"antofagasta\",\"vila franca do campo\",\"bauta\",\"nsanje\",\"xuchang\",\"todos santos\",\"bataipora\",\"tateyama\",\"wajima\",\"pokosnoye\",\"waipawa\",\"yaring\",\"isiro\",\"chivilcoy\",\"mandalgovi\",\"nicoya\",\"novocheremshansk\",\"emirdag\",\"nouadhibou\",\"tongliao\",\"ryomgard\",\"khudumelapye\",\"talcahuano\",\"gifhorn\",\"bilma\",\"vung tau\",\"byron bay\",\"kalabo\",\"arcata\",\"lemoore\",\"norfolk\",\"juba\",\"pali\",\"katsuura\",\"bambanglipuro\",\"padang\",\"freeport\",\"bulgan\",\"sorland\",\"saryg-sep\",\"batagay-alyta\",\"lompoc\",\"changli\",\"choma\",\"tena\",\"ilhabela\",\"redmond\",\"wyndham\",\"nhulunbuy\",\"sangamner\",\"road town\",\"ranong\",\"staryy nadym\",\"dargaville\",\"sovetskiy\",\"tatarsk\",\"canchungo\",\"iquique\",\"poum\"]],[\"Country\",[\"SA\",\"NO\",\"AU\",\"US\",\"CN\",\"AR\",\"US\",\"AU\",\"GL\",\"RE\",\"BR\",\"RU\",\"BR\",\"RU\",\"GL\",\"NZ\",\"RU\",\"GL\",\"RU\",\"EC\",\"CK\",\"MX\",\"BR\",\"PF\",\"RU\",\"CL\",\"CA\",\"MU\",\"AM\",\"SN\",\"US\",\"DE\",\"ZA\",\"GB\",\"TZ\",\"RU\",\"MD\",\"FO\",\"ID\",\"MX\",\"CA\",\"BR\",\"GB\",\"CL\",\"US\",\"US\",\"SO\",\"GE\",\"AU\",\"AU\",\"RU\",\"US\",\"CD\",\"IT\",\"TO\",\"GF\",\"RU\",\"RU\",\"ZA\",\"AU\",\"TL\",\"IS\",\"US\",\"IN\",\"PF\",\"ZA\",\"AR\",\"BR\",\"AU\",\"ZA\",\"PG\",\"BO\",\"CA\",\"LY\",\"RU\",\"RU\",\"CZ\",\"BR\",\"GB\",\"MU\",\"RU\",\"US\",\"KZ\",\"AU\",\"LY\",\"RU\",\"AR\",\"RE\",\"PT\",\"RU\",\"US\",\"PL\",\"RU\",\"MV\",\"KI\",\"IN\",\"CN\",\"CN\",\"BR\",\"LK\",\"BR\",\"CN\",\"AR\",\"ZM\",\"NZ\",\"BR\",\"ES\",\"MZ\",\"CA\",\"CL\",\"VE\",\"CV\",\"CA\",\"PG\",\"CN\",\"US\",\"HK\",\"PF\",\"BR\",\"MV\",\"ZA\",\"CN\",\"RU\",\"RU\",\"ID\",\"IN\",\"UY\",\"UA\",\"US\",\"NI\",\"PE\",\"US\",\"CL\",\"US\",\"MN\",\"ID\",\"AU\",\"ZA\",\"GT\",\"MY\",\"CA\",\"US\",\"PT\",\"IN\",\"US\",\"RU\",\"ES\",\"AU\",\"NO\",\"US\",\"NZ\",\"ID\",\"US\",\"RU\",\"ID\",\"CA\",\"NI\",\"AU\",\"RU\",\"AU\",\"PG\",\"CA\",\"BR\",\"BR\",\"PE\",\"MG\",\"BR\",\"NZ\",\"RU\",\"RU\",\"OM\",\"CA\",\"ZA\",\"MX\",\"US\",\"NE\",\"BO\",\"IS\",\"CA\",\"SL\",\"US\",\"MN\",\"RU\",\"GL\",\"ID\",\"BW\",\"ZA\",\"ZW\",\"ZA\",\"MU\",\"MX\",\"PE\",\"CD\",\"BR\",\"RU\",\"PT\",\"ES\",\"IL\",\"SB\",\"RO\",\"VU\",\"RU\",\"IS\",\"US\",\"RU\",\"CL\",\"RU\",\"PG\",\"ID\",\"JP\",\"CN\",\"US\",\"US\",\"RU\",\"nan\",\"BR\",\"GB\",\"BR\",\"PT\",\"IN\",\"UG\",\"ID\",\"CA\",\"RU\",\"CA\",\"RU\",\"ID\",\"SJ\",\"US\",\"VE\",\"RU\",\"US\",\"CA\",\"GA\",\"PE\",\"TO\",\"KM\",\"MU\",\"nan\",\"AR\",\"IN\",\"CG\",\"CN\",\"UA\",\"AU\",\"RU\",\"RU\",\"ET\",\"KZ\",\"BS\",\"NO\",\"PH\",\"MY\",\"BJ\",\"CN\",\"MU\",\"ZA\",\"IN\",\"AR\",\"ID\",\"CA\",\"PT\",\"CA\",\"LK\",\"US\",\"MX\",\"AU\",\"CA\",\"CN\",\"US\",\"RU\",\"CL\",\"DO\",\"US\",\"US\",\"TC\",\"IN\",\"SA\",\"RU\",\"JP\",\"CN\",\"NZ\",\"PW\",\"RU\",\"AR\",\"NZ\",\"CV\",\"NG\",\"US\",\"CO\",\"NO\",\"BS\",\"PT\",\"RU\",\"ET\",\"GF\",\"LY\",\"SO\",\"CL\",\"RU\",\"BR\",\"MN\",\"MU\",\"AU\",\"JP\",\"US\",\"US\",\"DO\",\"PG\",\"SE\",\"US\",\"RU\",\"MX\",\"AR\",\"GB\",\"NC\",\"BB\",\"OM\",\"GB\",\"MG\",\"IN\",\"AO\",\"FI\",\"RU\",\"RU\",\"BR\",\"RU\",\"GL\",\"PT\",\"BR\",\"ML\",\"CA\",\"UY\",\"BR\",\"US\",\"RU\",\"NZ\",\"AU\",\"PF\",\"CA\",\"MX\",\"RU\",\"US\",\"RU\",\"CA\",\"KZ\",\"GF\",\"JP\",\"KE\",\"NG\",\"CN\",\"ZA\",\"RU\",\"BR\",\"ID\",\"SB\",\"MZ\",\"NZ\",\"JP\",\"CN\",\"AZ\",\"MZ\",\"UA\",\"IN\",\"CA\",\"RU\",\"CI\",\"US\",\"RU\",\"US\",\"GB\",\"PE\",\"NZ\",\"ZW\",\"RU\",\"AU\",\"US\",\"PH\",\"CA\",\"RU\",\"AU\",\"AU\",\"RU\",\"GA\",\"MR\",\"IN\",\"UZ\",\"PT\",\"GL\",\"SA\",\"GA\",\"FR\",\"IS\",\"BF\",\"CA\",\"RU\",\"RU\",\"US\",\"RU\",\"AR\",\"GL\",\"US\",\"KR\",\"US\",\"RU\",\"US\",\"RU\",\"RU\",\"SV\",\"IT\",\"EC\",\"PT\",\"GL\",\"CD\",\"PH\",\"ES\",\"MV\",\"MX\",\"MX\",\"AU\",\"NC\",\"BA\",\"CG\",\"nan\",\"BR\",\"FR\",\"GL\",\"YT\",\"KZ\",\"PG\",\"IT\",\"BR\",\"ID\",\"BR\",\"US\",\"RU\",\"PK\",\"AR\",\"RU\",\"ID\",\"ID\",\"CN\",\"CN\",\"RU\",\"MV\",\"BR\",\"PT\",\"NO\",\"RU\",\"NU\",\"TR\",\"US\",\"UY\",\"MX\",\"ML\",\"NG\",\"MX\",\"VN\",\"IN\",\"GB\",\"AU\",\"BO\",\"PE\",\"BR\",\"ZA\",\"MZ\",\"AI\",\"GL\",\"CN\",\"RU\",\"ML\",\"SB\",\"PF\",\"MY\",\"TW\",\"ID\",\"CN\",\"BR\",\"UY\",\"CV\",\"RU\",\"SD\",\"JP\",\"FR\",\"RU\",\"US\",\"RU\",\"SE\",\"US\",\"RU\",\"GB\",\"JP\",\"SR\",\"RU\",\"US\",\"US\",\"IQ\",\"FI\",\"YE\",\"KZ\",\"RU\",\"MY\",\"CN\",\"US\",\"US\",\"US\",\"RO\",\"PG\",\"RU\",\"IN\",\"JO\",\"AU\",\"PL\",\"SD\",\"RU\",\"IN\",\"MX\",\"SO\",\"CL\",\"PT\",\"CU\",\"MW\",\"CN\",\"MX\",\"BR\",\"JP\",\"JP\",\"RU\",\"NZ\",\"TH\",\"CD\",\"AR\",\"MN\",\"CR\",\"RU\",\"TR\",\"MR\",\"CN\",\"DK\",\"BW\",\"CL\",\"DE\",\"NE\",\"VN\",\"AU\",\"ZM\",\"US\",\"US\",\"US\",\"SS\",\"IN\",\"JP\",\"ID\",\"ID\",\"US\",\"MN\",\"NO\",\"RU\",\"RU\",\"US\",\"CN\",\"ZM\",\"EC\",\"BR\",\"US\",\"US\",\"AU\",\"IN\",\"VG\",\"TH\",\"RU\",\"NZ\",\"RU\",\"RU\",\"GW\",\"CL\",\"NC\"]],[\"color\",[\"faya\",\"farsund\",\"new norfolk\",\"jamestown\",\"lanzhou\",\"ushuaia\",\"albany\",\"carnarvon\",\"sisimiut\",\"saint-pierre\",\"colorado\",\"nikolskoye\",\"trairi\",\"dobryanka\",\"qaanaaq\",\"mataura\",\"khatanga\",\"tasiilaq\",\"tiksi\",\"puerto ayora\",\"avarua\",\"nuevo laredo\",\"guiratinga\",\"rikitea\",\"dukat\",\"constitucion\",\"senneterre\",\"bambous virieux\",\"zangakatun\",\"saint-louis\",\"midwest city\",\"grimmen\",\"cape town\",\"stornoway\",\"naberera\",\"chokurdakh\",\"drochia\",\"klaksvik\",\"labuhan\",\"tomatlan\",\"clyde river\",\"sao joao da barra\",\"margate\",\"ancud\",\"collierville\",\"kapaa\",\"mogadishu\",\"tsalka\",\"dalby\",\"hobart\",\"dikson\",\"hilo\",\"businga\",\"lasa\",\"vaini\",\"cayenne\",\"ust-kulom\",\"udachnyy\",\"east london\",\"busselton\",\"airai\",\"grindavik\",\"barrow\",\"banda\",\"atuona\",\"hermanus\",\"mar del plata\",\"caravelas\",\"port lincoln\",\"bredasdorp\",\"mendi\",\"cobija\",\"deer lake\",\"nalut\",\"saskylakh\",\"dudinka\",\"zamberk\",\"jaguariaiva\",\"aberdeen\",\"mahebourg\",\"kedrovyy\",\"makakilo city\",\"qostanay\",\"esperance\",\"darnah\",\"provideniya\",\"rafaela\",\"saint-philippe\",\"ponta do sol\",\"solnechnyy\",\"saint george\",\"alba\",\"arman\",\"ugoofaaru\",\"butaritari\",\"kavaratti\",\"zhangye\",\"shenjiamen\",\"itarema\",\"trincomalee\",\"castro\",\"heihe\",\"rio gallegos\",\"siavonga\",\"bluff\",\"nova olimpia\",\"palencia\",\"inhambane\",\"iqaluit\",\"lebu\",\"calabozo\",\"sao filipe\",\"torbay\",\"kavieng\",\"yidu\",\"cedar city\",\"victoria\",\"faanui\",\"arraial do cabo\",\"hithadhoo\",\"port alfred\",\"lichuan\",\"talnakh\",\"novorzhev\",\"muncar\",\"jashpurnagar\",\"chuy\",\"kulykivka\",\"half moon bay\",\"bocana de paiwas\",\"el alto\",\"sitka\",\"punta arenas\",\"bay city\",\"baruun-urt\",\"ambon\",\"corowa\",\"port elizabeth\",\"ocos\",\"georgetown\",\"tuktoyaktuk\",\"brenham\",\"peniche\",\"tawang\",\"havelock\",\"novobelokatay\",\"puerto del rosario\",\"mount gambier\",\"rindal\",\"roseburg\",\"kaeo\",\"biak\",\"kahului\",\"lavrentiya\",\"sabang\",\"pangnirtung\",\"corn island\",\"innisfail\",\"almaznyy\",\"geraldton\",\"kokopo\",\"yellowknife\",\"sao miguel do araguaia\",\"belmonte\",\"pisco\",\"ambilobe\",\"aripuana\",\"kaitangata\",\"lesnoy\",\"evensk\",\"sur\",\"la ronge\",\"danielskuil\",\"chunhuhub\",\"avera\",\"ouallam\",\"challapata\",\"olafsvik\",\"neepawa\",\"freetown\",\"nome\",\"hovd\",\"ugra\",\"upernavik\",\"sembakung\",\"shakawe\",\"upington\",\"gwanda\",\"kruisfontein\",\"grand gaube\",\"cacahuatepec\",\"paita\",\"bumba\",\"maragogi\",\"kosa\",\"lagoa\",\"cabra\",\"gat\",\"buala\",\"asau\",\"isangel\",\"pevek\",\"husavik\",\"kodiak\",\"zyryanka\",\"valparaiso\",\"baykit\",\"port moresby\",\"meulaboh\",\"nakamura\",\"simao\",\"laguna\",\"bethel\",\"kodinsk\",\"luderitz\",\"touros\",\"glasgow\",\"ladario\",\"sao teotonio\",\"puri\",\"yumbe\",\"pangkalanbuun\",\"hay river\",\"verkhniye achaluki\",\"terrace bay\",\"ust-koksa\",\"sorong\",\"longyearbyen\",\"san patricio\",\"san cristobal\",\"lensk\",\"carrollton\",\"norman wells\",\"makokou\",\"llata\",\"neiafu\",\"moroni\",\"cap malheureux\",\"walvis bay\",\"rawson\",\"tikaitnagar\",\"sembe\",\"aksu\",\"russkaya polyana\",\"broken hill\",\"cherskiy\",\"beya\",\"goba\",\"ordzhonikidze\",\"high rock\",\"floro\",\"balabac\",\"bintulu\",\"tchaourou\",\"zhongshan\",\"quatre cocos\",\"prieska\",\"pathanamthitta\",\"comodoro rivadavia\",\"sungaipenuh\",\"aklavik\",\"camacha\",\"thompson\",\"hambantota\",\"swanton\",\"san quintin\",\"codrington\",\"chapais\",\"chengde\",\"portland\",\"berdigestyakh\",\"coquimbo\",\"samana\",\"anchorage\",\"fairbanks\",\"cockburn town\",\"tura\",\"sakakah\",\"ola\",\"hasaki\",\"jiuquan\",\"tuatapere\",\"kloulklubed\",\"ust-maya\",\"san juan\",\"whitianga\",\"praia\",\"okitipupa\",\"monmouth\",\"san andres\",\"lyngseidet\",\"dunmore town\",\"galegos\",\"kamen-rybolov\",\"dabat\",\"camopi\",\"jalu\",\"eyl\",\"valdivia\",\"teguldet\",\"aquiraz\",\"ulaangom\",\"souillac\",\"alice springs\",\"koriyama\",\"kingman\",\"college\",\"la romana\",\"daru\",\"boden\",\"carroll\",\"ust-kuyga\",\"bucerias\",\"tandil\",\"horsham\",\"vao\",\"bathsheba\",\"salalah\",\"harwich\",\"sambava\",\"yarada\",\"namibe\",\"kokkola\",\"leningradskiy\",\"vostok\",\"rio grande\",\"chegdomyn\",\"ilulissat\",\"viseu\",\"cidreira\",\"bafoulabe\",\"swan river\",\"rocha\",\"juruti\",\"kailua\",\"verkh-suetka\",\"dunedin\",\"mount isa\",\"mahina\",\"kamloops\",\"santa rosalia\",\"nerchinskiy zavod\",\"torrington\",\"krutikha\",\"bonavista\",\"zaysan\",\"mana\",\"nemuro\",\"mandera\",\"numan\",\"pingliang\",\"saldanha\",\"petropavlovsk-kamchatskiy\",\"vila velha\",\"bengkulu\",\"honiara\",\"pemba\",\"ahipara\",\"shingu\",\"korla\",\"lerik\",\"quelimane\",\"katyuzhanka\",\"narwar\",\"port hardy\",\"sol-iletsk\",\"tabou\",\"saint anthony\",\"srednekolymsk\",\"homer\",\"livingston\",\"lima\",\"christchurch\",\"beitbridge\",\"kortkeros\",\"port hedland\",\"fortuna\",\"dicabisagan\",\"smithers\",\"peleduy\",\"yulara\",\"roebourne\",\"mariinskiy posad\",\"mayumba\",\"adrar\",\"port blair\",\"komsomolskiy\",\"ribeira grande\",\"qasigiannguit\",\"buraydah\",\"port-gentil\",\"saint-francois\",\"vestmannaeyjar\",\"bogande\",\"quesnel\",\"usman\",\"aykhal\",\"carlyle\",\"kayerkan\",\"moron\",\"paamiut\",\"hamilton\",\"seoul\",\"woodward\",\"georgiyevskoye\",\"mayo\",\"kysyl-syr\",\"tashara\",\"acajutla\",\"capoterra\",\"muisne\",\"praia da vitoria\",\"maniitsoq\",\"kalemie\",\"tagusao\",\"mao\",\"mahibadhoo\",\"cabo san lucas\",\"panuco\",\"hervey bay\",\"fayaoue\",\"stolac\",\"gamboma\",\"rundu\",\"carutapera\",\"port-de-bouc\",\"nanortalik\",\"dzaoudzi\",\"aktau\",\"lorengau\",\"pachino\",\"cabedelo\",\"denpasar\",\"ipixuna\",\"broome\",\"tilichiki\",\"lakki marwat\",\"veinticinco de mayo\",\"avdon\",\"katobu\",\"merauke\",\"yangliuqing\",\"tieling\",\"togur\",\"thinadhoo\",\"terra santa\",\"colares\",\"havoysund\",\"ostrovnoy\",\"alofi\",\"samandag\",\"san joaquin\",\"treinta y tres\",\"nazareno\",\"tessalit\",\"yaan\",\"ixtapa\",\"dong hoi\",\"harindanga\",\"pontypool\",\"ulladulla\",\"la paz\",\"hualmay\",\"barroso\",\"vryburg\",\"beira\",\"the valley\",\"narsaq\",\"juegang\",\"verkhniy avzyan\",\"araouane\",\"kirakira\",\"tautira\",\"singkang\",\"taitung\",\"nabire\",\"chifeng\",\"caiaponia\",\"salto\",\"praya\",\"aksarka\",\"abu zabad\",\"kushima\",\"beaune\",\"egvekinot\",\"greenville\",\"ust-ordynskiy\",\"tranas\",\"pleasanton\",\"beringovskiy\",\"newcastleton\",\"hirado\",\"brokopondo\",\"batagay\",\"laurel\",\"statesville\",\"tikrit\",\"iisalmi\",\"lahij\",\"derzhavinsk\",\"kyren\",\"kapit\",\"altay\",\"waseca\",\"nantucket\",\"cadillac\",\"sfantu gheorghe\",\"kundiawa\",\"gornopravdinsk\",\"bhandara\",\"wadi musa\",\"charters towers\",\"ustka\",\"sawakin\",\"severo-kurilsk\",\"rameswaram\",\"guerrero negro\",\"bandarbeyla\",\"antofagasta\",\"vila franca do campo\",\"bauta\",\"nsanje\",\"xuchang\",\"todos santos\",\"bataipora\",\"tateyama\",\"wajima\",\"pokosnoye\",\"waipawa\",\"yaring\",\"isiro\",\"chivilcoy\",\"mandalgovi\",\"nicoya\",\"novocheremshansk\",\"emirdag\",\"nouadhibou\",\"tongliao\",\"ryomgard\",\"khudumelapye\",\"talcahuano\",\"gifhorn\",\"bilma\",\"vung tau\",\"byron bay\",\"kalabo\",\"arcata\",\"lemoore\",\"norfolk\",\"juba\",\"pali\",\"katsuura\",\"bambanglipuro\",\"padang\",\"freeport\",\"bulgan\",\"sorland\",\"saryg-sep\",\"batagay-alyta\",\"lompoc\",\"changli\",\"choma\",\"tena\",\"ilhabela\",\"redmond\",\"wyndham\",\"nhulunbuy\",\"sangamner\",\"road town\",\"ranong\",\"staryy nadym\",\"dargaville\",\"sovetskiy\",\"tatarsk\",\"canchungo\",\"iquique\",\"poum\"]]]}}},\"view\":{\"type\":\"object\",\"name\":\"CDSView\",\"id\":\"p1082\",\"attributes\":{\"filter\":{\"type\":\"object\",\"name\":\"AllIndices\",\"id\":\"p1083\"}}},\"glyph\":{\"type\":\"object\",\"name\":\"Scatter\",\"id\":\"p1076\",\"attributes\":{\"tags\":[\"apply_ranges\"],\"x\":{\"type\":\"field\",\"field\":\"Lng\"},\"y\":{\"type\":\"field\",\"field\":\"Lat\"},\"line_color\":{\"type\":\"field\",\"field\":\"color\",\"transform\":{\"type\":\"object\",\"name\":\"CategoricalColorMapper\",\"id\":\"p1069\",\"attributes\":{\"palette\":[\"#1f77b3\",\"#ff7e0e\",\"#2ba02b\",\"#d62628\",\"#9367bc\",\"#8c564b\",\"#e277c1\",\"#7e7e7e\",\"#bcbc21\",\"#16bdcf\",\"#3a0182\",\"#004201\",\"#0fffa8\",\"#5d003f\",\"#bcbcff\",\"#d8afa1\",\"#b80080\",\"#004d52\",\"#6b6400\",\"#7c0100\",\"#6026ff\",\"#ffff9a\",\"#564964\",\"#8cb893\",\"#93fbff\",\"#018267\",\"#90ff00\",\"#8200a0\",\"#ac8944\",\"#5b3400\",\"#ffbff2\",\"#ff6e75\",\"#798cff\",\"#dd00ff\",\"#505646\",\"#004489\",\"#ffbf60\",\"#ff018c\",\"#bdc8cf\",\"#af97b5\",\"#b65600\",\"#017000\",\"#cd87ff\",\"#1cd646\",\"#bfebc3\",\"#7997b5\",\"#a56089\",\"#6e8956\",\"#bc7c75\",\"#8a2844\",\"#00acff\",\"#8ed4ff\",\"#4b6d77\",\"#00d4b1\",\"#9300f2\",\"#8a9500\",\"#5d5b9e\",\"#fddfba\",\"#00939e\",\"#ffdb00\",\"#00aa79\",\"#520067\",\"#000091\",\"#0a5d3d\",\"#a5e275\",\"#623b41\",\"#c6c689\",\"#ff9eb5\",\"#cd4f6b\",\"#ff07d6\",\"#8a3a05\",\"#7e3d70\",\"#ff4901\",\"#602ba5\",\"#1c00ff\",\"#e6dfff\",\"#aa3baf\",\"#d89c00\",\"#a3a39e\",\"#3f69ff\",\"#46490c\",\"#7b6985\",\"#6b978c\",\"#ff9a75\",\"#835bff\",\"#7c6b46\",\"#80b654\",\"#bc0049\",\"#fd93ff\",\"#5d0018\",\"#89d1d1\",\"#9c8cd3\",\"#da6d42\",\"#8a5700\",\"#3b5069\",\"#4b6b3b\",\"#edcfd8\",\"#cfedff\",\"#aa1500\",\"#dfff4f\",\"#ff2a56\",\"#d1499e\",\"#707cb8\",\"#598000\",\"#00e4fd\",\"#774b95\",\"#67d48c\",\"#3d3a72\",\"#ac413f\",\"#d6a166\",\"#c169cd\",\"#69595d\",\"#87aced\",\"#a0a569\",\"#d1aae6\",\"#870062\",\"#00fddb\",\"#672818\",\"#b342ff\",\"#0e59c4\",\"#168742\",\"#90d300\",\"#cd7900\",\"#f959ff\",\"#5b7466\",\"#8eaeb3\",\"#9c7c8c\",\"#4600c6\",\"#6b4d2d\",\"#a56d46\",\"#9e8972\",\"#a8afca\",\"#cd8ca7\",\"#00fd64\",\"#917900\",\"#ff62a1\",\"#f4ffd8\",\"#018cf0\",\"#13aca0\",\"#5b2d59\",\"#89859e\",\"#cfccba\",\"#d4afc4\",\"#dbdd6d\",\"#cffff4\",\"#006485\",\"#006962\",\"#a84167\",\"#2d97c4\",\"#a874ff\",\"#26ba5d\",\"#57b600\",\"#caffa7\",\"#a379aa\",\"#ffbc93\",\"#89e2c1\",\"#0fc8ff\",\"#d400c4\",\"#626d89\",\"#69858e\",\"#4b4d52\",\"#aa6067\",\"#79b5d4\",\"#2b5916\",\"#9a0024\",\"#bdd1f2\",\"#896e67\",\"#69a56b\",\"#855467\",\"#aecdba\",\"#87997e\",\"#cadb00\",\"#9a0390\",\"#ebbc1a\",\"#eb9cd1\",\"#70006e\",\"#b1a131\",\"#ca6b93\",\"#4146a3\",\"#e48c89\",\"#d44400\",\"#c68aca\",\"#b69597\",\"#d41f75\",\"#724bcc\",\"#674d00\",\"#672138\",\"#38564f\",\"#6ebaaa\",\"#853a31\",\"#a5d397\",\"#b8af8e\",\"#d8e4df\",\"#aa00df\",\"#cac1db\",\"#ffdf8c\",\"#e2524d\",\"#66696e\",\"#ff001c\",\"#522d72\",\"#4d906b\",\"#a86d11\",\"#ff9e26\",\"#5ea3af\",\"#c88556\",\"#915997\",\"#a3a1ff\",\"#fdbaba\",\"#242a87\",\"#dbe6a8\",\"#97f2a7\",\"#6793d6\",\"#ba5b3f\",\"#3a5d91\",\"#364f2f\",\"#267c95\",\"#89959a\",\"#cfb356\",\"#004664\",\"#5e5d2f\",\"#8e8e41\",\"#ac3f13\",\"#69953b\",\"#a13d85\",\"#bfb6ba\",\"#acc667\",\"#6469cf\",\"#91af00\",\"#2be2da\",\"#016e36\",\"#ff7952\",\"#42807e\",\"#4fe800\",\"#995428\",\"#5d0a00\",\"#a30057\",\"#0c8700\",\"#5982a7\",\"#ffebfb\",\"#4b6901\",\"#8775d4\",\"#e6c6ff\",\"#a5ffda\",\"#d86e77\",\"#df014b\",\"#69675b\",\"#776ba1\",\"#7e8067\",\"#594685\",\"#0000ca\",\"#7c002a\",\"#97ff72\",\"#b5e2e1\",\"#db52c8\",\"#777734\",\"#57bd8e\",\"#1f77b3\",\"#ff7e0e\",\"#2ba02b\",\"#d62628\",\"#9367bc\",\"#8c564b\",\"#e277c1\",\"#7e7e7e\",\"#bcbc21\",\"#16bdcf\",\"#3a0182\",\"#004201\",\"#0fffa8\",\"#5d003f\",\"#bcbcff\",\"#d8afa1\",\"#b80080\",\"#004d52\",\"#6b6400\",\"#7c0100\",\"#6026ff\",\"#ffff9a\",\"#564964\",\"#8cb893\",\"#93fbff\",\"#018267\",\"#90ff00\",\"#8200a0\",\"#ac8944\",\"#5b3400\",\"#ffbff2\",\"#ff6e75\",\"#798cff\",\"#dd00ff\",\"#505646\",\"#004489\",\"#ffbf60\",\"#ff018c\",\"#bdc8cf\",\"#af97b5\",\"#b65600\",\"#017000\",\"#cd87ff\",\"#1cd646\",\"#bfebc3\",\"#7997b5\",\"#a56089\",\"#6e8956\",\"#bc7c75\",\"#8a2844\",\"#00acff\",\"#8ed4ff\",\"#4b6d77\",\"#00d4b1\",\"#9300f2\",\"#8a9500\",\"#5d5b9e\",\"#fddfba\",\"#00939e\",\"#ffdb00\",\"#00aa79\",\"#520067\",\"#000091\",\"#0a5d3d\",\"#a5e275\",\"#623b41\",\"#c6c689\",\"#ff9eb5\",\"#cd4f6b\",\"#ff07d6\",\"#8a3a05\",\"#7e3d70\",\"#ff4901\",\"#602ba5\",\"#1c00ff\",\"#e6dfff\",\"#aa3baf\",\"#d89c00\",\"#a3a39e\",\"#3f69ff\",\"#46490c\",\"#7b6985\",\"#6b978c\",\"#ff9a75\",\"#835bff\",\"#7c6b46\",\"#80b654\",\"#bc0049\",\"#fd93ff\",\"#5d0018\",\"#89d1d1\",\"#9c8cd3\",\"#da6d42\",\"#8a5700\",\"#3b5069\",\"#4b6b3b\",\"#edcfd8\",\"#cfedff\",\"#aa1500\",\"#dfff4f\",\"#ff2a56\",\"#d1499e\",\"#707cb8\",\"#598000\",\"#00e4fd\",\"#774b95\",\"#67d48c\",\"#3d3a72\",\"#ac413f\",\"#d6a166\",\"#c169cd\",\"#69595d\",\"#87aced\",\"#a0a569\",\"#d1aae6\",\"#870062\",\"#00fddb\",\"#672818\",\"#b342ff\",\"#0e59c4\",\"#168742\",\"#90d300\",\"#cd7900\",\"#f959ff\",\"#5b7466\",\"#8eaeb3\",\"#9c7c8c\",\"#4600c6\",\"#6b4d2d\",\"#a56d46\",\"#9e8972\",\"#a8afca\",\"#cd8ca7\",\"#00fd64\",\"#917900\",\"#ff62a1\",\"#f4ffd8\",\"#018cf0\",\"#13aca0\",\"#5b2d59\",\"#89859e\",\"#cfccba\",\"#d4afc4\",\"#dbdd6d\",\"#cffff4\",\"#006485\",\"#006962\",\"#a84167\",\"#2d97c4\",\"#a874ff\",\"#26ba5d\",\"#57b600\",\"#caffa7\",\"#a379aa\",\"#ffbc93\",\"#89e2c1\",\"#0fc8ff\",\"#d400c4\",\"#626d89\",\"#69858e\",\"#4b4d52\",\"#aa6067\",\"#79b5d4\",\"#2b5916\",\"#9a0024\",\"#bdd1f2\",\"#896e67\",\"#69a56b\",\"#855467\",\"#aecdba\",\"#87997e\",\"#cadb00\",\"#9a0390\",\"#ebbc1a\",\"#eb9cd1\",\"#70006e\",\"#b1a131\",\"#ca6b93\",\"#4146a3\",\"#e48c89\",\"#d44400\",\"#c68aca\",\"#b69597\",\"#d41f75\",\"#724bcc\",\"#674d00\",\"#672138\",\"#38564f\",\"#6ebaaa\",\"#853a31\",\"#a5d397\",\"#b8af8e\",\"#d8e4df\",\"#aa00df\",\"#cac1db\",\"#ffdf8c\",\"#e2524d\",\"#66696e\",\"#ff001c\",\"#522d72\",\"#4d906b\",\"#a86d11\",\"#ff9e26\",\"#5ea3af\",\"#c88556\",\"#915997\",\"#a3a1ff\",\"#fdbaba\",\"#242a87\",\"#dbe6a8\",\"#97f2a7\",\"#6793d6\",\"#ba5b3f\",\"#3a5d91\",\"#364f2f\",\"#267c95\",\"#89959a\",\"#cfb356\",\"#004664\",\"#5e5d2f\",\"#8e8e41\",\"#ac3f13\",\"#69953b\",\"#a13d85\",\"#bfb6ba\",\"#acc667\",\"#6469cf\",\"#91af00\",\"#2be2da\",\"#016e36\",\"#ff7952\",\"#42807e\",\"#4fe800\",\"#995428\",\"#5d0a00\",\"#a30057\",\"#0c8700\",\"#5982a7\",\"#ffebfb\",\"#4b6901\",\"#8775d4\",\"#e6c6ff\",\"#a5ffda\",\"#d86e77\",\"#df014b\",\"#69675b\",\"#776ba1\",\"#7e8067\",\"#594685\",\"#0000ca\",\"#7c002a\",\"#97ff72\",\"#b5e2e1\",\"#db52c8\",\"#777734\",\"#57bd8e\",\"#1f77b3\",\"#ff7e0e\",\"#2ba02b\",\"#d62628\",\"#9367bc\",\"#8c564b\",\"#e277c1\",\"#7e7e7e\",\"#bcbc21\",\"#16bdcf\",\"#3a0182\",\"#004201\",\"#0fffa8\",\"#5d003f\",\"#bcbcff\",\"#d8afa1\",\"#b80080\",\"#004d52\",\"#6b6400\",\"#7c0100\",\"#6026ff\",\"#ffff9a\",\"#564964\",\"#8cb893\",\"#93fbff\",\"#018267\",\"#90ff00\",\"#8200a0\",\"#ac8944\",\"#5b3400\",\"#ffbff2\",\"#ff6e75\",\"#798cff\",\"#dd00ff\",\"#505646\",\"#004489\",\"#ffbf60\",\"#ff018c\",\"#bdc8cf\",\"#af97b5\",\"#b65600\",\"#017000\",\"#cd87ff\",\"#1cd646\",\"#bfebc3\",\"#7997b5\",\"#a56089\",\"#6e8956\",\"#bc7c75\",\"#8a2844\",\"#00acff\",\"#8ed4ff\",\"#4b6d77\",\"#00d4b1\",\"#9300f2\",\"#8a9500\",\"#5d5b9e\",\"#fddfba\",\"#00939e\",\"#ffdb00\",\"#00aa79\",\"#520067\",\"#000091\",\"#0a5d3d\",\"#a5e275\"],\"factors\":[\"faya\",\"farsund\",\"new norfolk\",\"jamestown\",\"lanzhou\",\"ushuaia\",\"albany\",\"carnarvon\",\"sisimiut\",\"saint-pierre\",\"colorado\",\"nikolskoye\",\"trairi\",\"dobryanka\",\"qaanaaq\",\"mataura\",\"khatanga\",\"tasiilaq\",\"tiksi\",\"puerto ayora\",\"avarua\",\"nuevo laredo\",\"guiratinga\",\"rikitea\",\"dukat\",\"constitucion\",\"senneterre\",\"bambous virieux\",\"zangakatun\",\"saint-louis\",\"midwest city\",\"grimmen\",\"cape town\",\"stornoway\",\"naberera\",\"chokurdakh\",\"drochia\",\"klaksvik\",\"labuhan\",\"tomatlan\",\"clyde river\",\"sao joao da barra\",\"margate\",\"ancud\",\"collierville\",\"kapaa\",\"mogadishu\",\"tsalka\",\"dalby\",\"hobart\",\"dikson\",\"hilo\",\"businga\",\"lasa\",\"vaini\",\"cayenne\",\"ust-kulom\",\"udachnyy\",\"east london\",\"busselton\",\"airai\",\"grindavik\",\"barrow\",\"banda\",\"atuona\",\"hermanus\",\"mar del plata\",\"caravelas\",\"port lincoln\",\"bredasdorp\",\"mendi\",\"cobija\",\"deer lake\",\"nalut\",\"saskylakh\",\"dudinka\",\"zamberk\",\"jaguariaiva\",\"aberdeen\",\"mahebourg\",\"kedrovyy\",\"makakilo city\",\"qostanay\",\"esperance\",\"darnah\",\"provideniya\",\"rafaela\",\"saint-philippe\",\"ponta do sol\",\"solnechnyy\",\"saint george\",\"alba\",\"arman\",\"ugoofaaru\",\"butaritari\",\"kavaratti\",\"zhangye\",\"shenjiamen\",\"itarema\",\"trincomalee\",\"castro\",\"heihe\",\"rio gallegos\",\"siavonga\",\"bluff\",\"nova olimpia\",\"palencia\",\"inhambane\",\"iqaluit\",\"lebu\",\"calabozo\",\"sao filipe\",\"torbay\",\"kavieng\",\"yidu\",\"cedar city\",\"victoria\",\"faanui\",\"arraial do cabo\",\"hithadhoo\",\"port alfred\",\"lichuan\",\"talnakh\",\"novorzhev\",\"muncar\",\"jashpurnagar\",\"chuy\",\"kulykivka\",\"half moon bay\",\"bocana de paiwas\",\"el alto\",\"sitka\",\"punta arenas\",\"bay city\",\"baruun-urt\",\"ambon\",\"corowa\",\"port elizabeth\",\"ocos\",\"georgetown\",\"tuktoyaktuk\",\"brenham\",\"peniche\",\"tawang\",\"havelock\",\"novobelokatay\",\"puerto del rosario\",\"mount gambier\",\"rindal\",\"roseburg\",\"kaeo\",\"biak\",\"kahului\",\"lavrentiya\",\"sabang\",\"pangnirtung\",\"corn island\",\"innisfail\",\"almaznyy\",\"geraldton\",\"kokopo\",\"yellowknife\",\"sao miguel do araguaia\",\"belmonte\",\"pisco\",\"ambilobe\",\"aripuana\",\"kaitangata\",\"lesnoy\",\"evensk\",\"sur\",\"la ronge\",\"danielskuil\",\"chunhuhub\",\"avera\",\"ouallam\",\"challapata\",\"olafsvik\",\"neepawa\",\"freetown\",\"nome\",\"hovd\",\"ugra\",\"upernavik\",\"sembakung\",\"shakawe\",\"upington\",\"gwanda\",\"kruisfontein\",\"grand gaube\",\"cacahuatepec\",\"paita\",\"bumba\",\"maragogi\",\"kosa\",\"lagoa\",\"cabra\",\"gat\",\"buala\",\"asau\",\"isangel\",\"pevek\",\"husavik\",\"kodiak\",\"zyryanka\",\"valparaiso\",\"baykit\",\"port moresby\",\"meulaboh\",\"nakamura\",\"simao\",\"laguna\",\"bethel\",\"kodinsk\",\"luderitz\",\"touros\",\"glasgow\",\"ladario\",\"sao teotonio\",\"puri\",\"yumbe\",\"pangkalanbuun\",\"hay river\",\"verkhniye achaluki\",\"terrace bay\",\"ust-koksa\",\"sorong\",\"longyearbyen\",\"san patricio\",\"san cristobal\",\"lensk\",\"carrollton\",\"norman wells\",\"makokou\",\"llata\",\"neiafu\",\"moroni\",\"cap malheureux\",\"walvis bay\",\"rawson\",\"tikaitnagar\",\"sembe\",\"aksu\",\"russkaya polyana\",\"broken hill\",\"cherskiy\",\"beya\",\"goba\",\"ordzhonikidze\",\"high rock\",\"floro\",\"balabac\",\"bintulu\",\"tchaourou\",\"zhongshan\",\"quatre cocos\",\"prieska\",\"pathanamthitta\",\"comodoro rivadavia\",\"sungaipenuh\",\"aklavik\",\"camacha\",\"thompson\",\"hambantota\",\"swanton\",\"san quintin\",\"codrington\",\"chapais\",\"chengde\",\"portland\",\"berdigestyakh\",\"coquimbo\",\"samana\",\"anchorage\",\"fairbanks\",\"cockburn town\",\"tura\",\"sakakah\",\"ola\",\"hasaki\",\"jiuquan\",\"tuatapere\",\"kloulklubed\",\"ust-maya\",\"san juan\",\"whitianga\",\"praia\",\"okitipupa\",\"monmouth\",\"san andres\",\"lyngseidet\",\"dunmore town\",\"galegos\",\"kamen-rybolov\",\"dabat\",\"camopi\",\"jalu\",\"eyl\",\"valdivia\",\"teguldet\",\"aquiraz\",\"ulaangom\",\"souillac\",\"alice springs\",\"koriyama\",\"kingman\",\"college\",\"la romana\",\"daru\",\"boden\",\"carroll\",\"ust-kuyga\",\"bucerias\",\"tandil\",\"horsham\",\"vao\",\"bathsheba\",\"salalah\",\"harwich\",\"sambava\",\"yarada\",\"namibe\",\"kokkola\",\"leningradskiy\",\"vostok\",\"rio grande\",\"chegdomyn\",\"ilulissat\",\"viseu\",\"cidreira\",\"bafoulabe\",\"swan river\",\"rocha\",\"juruti\",\"kailua\",\"verkh-suetka\",\"dunedin\",\"mount isa\",\"mahina\",\"kamloops\",\"santa rosalia\",\"nerchinskiy zavod\",\"torrington\",\"krutikha\",\"bonavista\",\"zaysan\",\"mana\",\"nemuro\",\"mandera\",\"numan\",\"pingliang\",\"saldanha\",\"petropavlovsk-kamchatskiy\",\"vila velha\",\"bengkulu\",\"honiara\",\"pemba\",\"ahipara\",\"shingu\",\"korla\",\"lerik\",\"quelimane\",\"katyuzhanka\",\"narwar\",\"port hardy\",\"sol-iletsk\",\"tabou\",\"saint anthony\",\"srednekolymsk\",\"homer\",\"livingston\",\"lima\",\"christchurch\",\"beitbridge\",\"kortkeros\",\"port hedland\",\"fortuna\",\"dicabisagan\",\"smithers\",\"peleduy\",\"yulara\",\"roebourne\",\"mariinskiy posad\",\"mayumba\",\"adrar\",\"port blair\",\"komsomolskiy\",\"ribeira grande\",\"qasigiannguit\",\"buraydah\",\"port-gentil\",\"saint-francois\",\"vestmannaeyjar\",\"bogande\",\"quesnel\",\"usman\",\"aykhal\",\"carlyle\",\"kayerkan\",\"moron\",\"paamiut\",\"hamilton\",\"seoul\",\"woodward\",\"georgiyevskoye\",\"mayo\",\"kysyl-syr\",\"tashara\",\"acajutla\",\"capoterra\",\"muisne\",\"praia da vitoria\",\"maniitsoq\",\"kalemie\",\"tagusao\",\"mao\",\"mahibadhoo\",\"cabo san lucas\",\"panuco\",\"hervey bay\",\"fayaoue\",\"stolac\",\"gamboma\",\"rundu\",\"carutapera\",\"port-de-bouc\",\"nanortalik\",\"dzaoudzi\",\"aktau\",\"lorengau\",\"pachino\",\"cabedelo\",\"denpasar\",\"ipixuna\",\"broome\",\"tilichiki\",\"lakki marwat\",\"veinticinco de mayo\",\"avdon\",\"katobu\",\"merauke\",\"yangliuqing\",\"tieling\",\"togur\",\"thinadhoo\",\"terra santa\",\"colares\",\"havoysund\",\"ostrovnoy\",\"alofi\",\"samandag\",\"san joaquin\",\"treinta y tres\",\"nazareno\",\"tessalit\",\"yaan\",\"ixtapa\",\"dong hoi\",\"harindanga\",\"pontypool\",\"ulladulla\",\"la paz\",\"hualmay\",\"barroso\",\"vryburg\",\"beira\",\"the valley\",\"narsaq\",\"juegang\",\"verkhniy avzyan\",\"araouane\",\"kirakira\",\"tautira\",\"singkang\",\"taitung\",\"nabire\",\"chifeng\",\"caiaponia\",\"salto\",\"praya\",\"aksarka\",\"abu zabad\",\"kushima\",\"beaune\",\"egvekinot\",\"greenville\",\"ust-ordynskiy\",\"tranas\",\"pleasanton\",\"beringovskiy\",\"newcastleton\",\"hirado\",\"brokopondo\",\"batagay\",\"laurel\",\"statesville\",\"tikrit\",\"iisalmi\",\"lahij\",\"derzhavinsk\",\"kyren\",\"kapit\",\"altay\",\"waseca\",\"nantucket\",\"cadillac\",\"sfantu gheorghe\",\"kundiawa\",\"gornopravdinsk\",\"bhandara\",\"wadi musa\",\"charters towers\",\"ustka\",\"sawakin\",\"severo-kurilsk\",\"rameswaram\",\"guerrero negro\",\"bandarbeyla\",\"antofagasta\",\"vila franca do campo\",\"bauta\",\"nsanje\",\"xuchang\",\"todos santos\",\"bataipora\",\"tateyama\",\"wajima\",\"pokosnoye\",\"waipawa\",\"yaring\",\"isiro\",\"chivilcoy\",\"mandalgovi\",\"nicoya\",\"novocheremshansk\",\"emirdag\",\"nouadhibou\",\"tongliao\",\"ryomgard\",\"khudumelapye\",\"talcahuano\",\"gifhorn\",\"bilma\",\"vung tau\",\"byron bay\",\"kalabo\",\"arcata\",\"lemoore\",\"norfolk\",\"juba\",\"pali\",\"katsuura\",\"bambanglipuro\",\"padang\",\"freeport\",\"bulgan\",\"sorland\",\"saryg-sep\",\"batagay-alyta\",\"lompoc\",\"changli\",\"choma\",\"tena\",\"ilhabela\",\"redmond\",\"wyndham\",\"nhulunbuy\",\"sangamner\",\"road town\",\"ranong\",\"staryy nadym\",\"dargaville\",\"sovetskiy\",\"tatarsk\",\"canchungo\",\"iquique\",\"poum\"]}}},\"line_alpha\":{\"type\":\"value\",\"value\":0.7},\"fill_color\":{\"type\":\"field\",\"field\":\"color\",\"transform\":{\"id\":\"p1069\"}},\"fill_alpha\":{\"type\":\"value\",\"value\":0.7},\"hatch_color\":{\"type\":\"field\",\"field\":\"color\",\"transform\":{\"id\":\"p1069\"}},\"hatch_alpha\":{\"type\":\"value\",\"value\":0.7}}},\"selection_glyph\":{\"type\":\"object\",\"name\":\"Scatter\",\"id\":\"p1078\",\"attributes\":{\"tags\":[\"apply_ranges\"],\"x\":{\"type\":\"field\",\"field\":\"Lng\"},\"y\":{\"type\":\"field\",\"field\":\"Lat\"},\"line_color\":{\"type\":\"field\",\"field\":\"color\",\"transform\":{\"id\":\"p1069\"}},\"line_alpha\":{\"type\":\"value\",\"value\":0.7},\"fill_color\":{\"type\":\"field\",\"field\":\"color\",\"transform\":{\"id\":\"p1069\"}},\"fill_alpha\":{\"type\":\"value\",\"value\":0.7},\"hatch_color\":{\"type\":\"field\",\"field\":\"color\",\"transform\":{\"id\":\"p1069\"}},\"hatch_alpha\":{\"type\":\"value\",\"value\":0.7}}},\"nonselection_glyph\":{\"type\":\"object\",\"name\":\"Scatter\",\"id\":\"p1077\",\"attributes\":{\"tags\":[\"apply_ranges\"],\"x\":{\"type\":\"field\",\"field\":\"Lng\"},\"y\":{\"type\":\"field\",\"field\":\"Lat\"},\"line_color\":{\"type\":\"field\",\"field\":\"color\",\"transform\":{\"id\":\"p1069\"}},\"line_alpha\":{\"type\":\"value\",\"value\":0.7},\"fill_color\":{\"type\":\"field\",\"field\":\"color\",\"transform\":{\"id\":\"p1069\"}},\"fill_alpha\":{\"type\":\"value\",\"value\":0.7},\"hatch_color\":{\"type\":\"field\",\"field\":\"color\",\"transform\":{\"id\":\"p1069\"}},\"hatch_alpha\":{\"type\":\"value\",\"value\":0.1}}},\"hover_glyph\":{\"type\":\"object\",\"name\":\"Scatter\",\"id\":\"p1079\",\"attributes\":{\"tags\":[\"apply_ranges\"],\"x\":{\"type\":\"field\",\"field\":\"Lng\"},\"y\":{\"type\":\"field\",\"field\":\"Lat\"},\"line_color\":{\"type\":\"field\",\"field\":\"color\",\"transform\":{\"id\":\"p1069\"}},\"line_alpha\":{\"type\":\"value\",\"value\":0.7},\"fill_color\":{\"type\":\"field\",\"field\":\"color\",\"transform\":{\"id\":\"p1069\"}},\"fill_alpha\":{\"type\":\"value\",\"value\":0.7},\"hatch_color\":{\"type\":\"field\",\"field\":\"color\",\"transform\":{\"id\":\"p1069\"}},\"hatch_alpha\":{\"type\":\"value\",\"value\":0.7}}},\"muted_glyph\":{\"type\":\"object\",\"name\":\"Scatter\",\"id\":\"p1080\",\"attributes\":{\"tags\":[\"apply_ranges\"],\"x\":{\"type\":\"field\",\"field\":\"Lng\"},\"y\":{\"type\":\"field\",\"field\":\"Lat\"},\"line_color\":{\"type\":\"field\",\"field\":\"color\",\"transform\":{\"id\":\"p1069\"}},\"line_alpha\":{\"type\":\"value\",\"value\":0.2},\"fill_color\":{\"type\":\"field\",\"field\":\"color\",\"transform\":{\"id\":\"p1069\"}},\"fill_alpha\":{\"type\":\"value\",\"value\":0.2},\"hatch_color\":{\"type\":\"field\",\"field\":\"color\",\"transform\":{\"id\":\"p1069\"}},\"hatch_alpha\":{\"type\":\"value\",\"value\":0.2}}}}}],\"toolbar\":{\"type\":\"object\",\"name\":\"Toolbar\",\"id\":\"p1041\",\"attributes\":{\"tools\":[{\"type\":\"object\",\"name\":\"WheelZoomTool\",\"id\":\"p1025\",\"attributes\":{\"renderers\":\"auto\",\"zoom_on_axis\":false}},{\"type\":\"object\",\"name\":\"BoxZoomTool\",\"id\":\"p1026\",\"attributes\":{\"overlay\":{\"type\":\"object\",\"name\":\"BoxAnnotation\",\"id\":\"p1006\",\"attributes\":{\"syncable\":false,\"level\":\"overlay\",\"visible\":false,\"left_units\":\"canvas\",\"right_units\":\"canvas\",\"top_units\":\"canvas\",\"bottom_units\":\"canvas\",\"line_color\":\"black\",\"line_alpha\":1.0,\"line_width\":2,\"line_dash\":[4,4],\"fill_color\":\"lightgrey\",\"fill_alpha\":0.5}},\"match_aspect\":true}},{\"type\":\"object\",\"name\":\"HoverTool\",\"id\":\"p1031\",\"attributes\":{\"tags\":[\"hv_created\"],\"renderers\":[{\"id\":\"p1081\"}],\"tooltips\":[[\"Lng\",\"$x{custom}\"],[\"Lat\",\"$y{custom}\"],[\"City\",\"@{City}\"],[\"Country\",\"@{Country}\"]],\"formatters\":{\"type\":\"map\",\"entries\":[[\"$x\",{\"type\":\"object\",\"name\":\"CustomJSHover\",\"id\":\"p1086\",\"attributes\":{\"code\":\"\\n        const projections = Bokeh.require(\\\"core/util/projections\\\");\\n        const {snap_x, snap_y} = special_vars\\n        const coords = projections.wgs84_mercator.invert(snap_x, snap_y)\\n        return \\\"\\\" + (coords[0]).toFixed(4)\\n    \"}}],[\"$y\",{\"type\":\"object\",\"name\":\"CustomJSHover\",\"id\":\"p1087\",\"attributes\":{\"code\":\"\\n        const projections = Bokeh.require(\\\"core/util/projections\\\");\\n        const {snap_x, snap_y} = special_vars\\n        const coords = projections.wgs84_mercator.invert(snap_x, snap_y)\\n        return \\\"\\\" + (coords[1]).toFixed(4)\\n    \"}}]]}}},{\"type\":\"object\",\"name\":\"PanTool\",\"id\":\"p1055\"},{\"type\":\"object\",\"name\":\"ResetTool\",\"id\":\"p1056\"}],\"active_drag\":{\"id\":\"p1055\"}}},\"left\":[{\"type\":\"object\",\"name\":\"LinearAxis\",\"id\":\"p1049\",\"attributes\":{\"ticker\":{\"type\":\"object\",\"name\":\"MercatorTicker\",\"id\":\"p1059\",\"attributes\":{\"mantissas\":[1,2,5],\"dimension\":\"lat\"}},\"formatter\":{\"type\":\"object\",\"name\":\"MercatorTickFormatter\",\"id\":\"p1060\",\"attributes\":{\"dimension\":\"lat\"}},\"axis_label\":\"Latitude\",\"major_label_policy\":{\"type\":\"object\",\"name\":\"AllLabels\",\"id\":\"p1052\"}}}],\"right\":[{\"type\":\"object\",\"name\":\"Legend\",\"id\":\"p1084\",\"attributes\":{\"location\":[0,0],\"click_policy\":\"mute\",\"items\":[{\"type\":\"object\",\"name\":\"LegendItem\",\"id\":\"p1085\",\"attributes\":{\"label\":{\"type\":\"field\",\"field\":\"color\"},\"renderers\":[{\"id\":\"p1081\"}]}}]}}],\"below\":[{\"type\":\"object\",\"name\":\"LinearAxis\",\"id\":\"p1044\",\"attributes\":{\"ticker\":{\"type\":\"object\",\"name\":\"MercatorTicker\",\"id\":\"p1057\",\"attributes\":{\"mantissas\":[1,2,5],\"dimension\":\"lon\"}},\"formatter\":{\"type\":\"object\",\"name\":\"MercatorTickFormatter\",\"id\":\"p1058\",\"attributes\":{\"dimension\":\"lon\"}},\"axis_label\":\"Longitude\",\"major_label_policy\":{\"type\":\"object\",\"name\":\"AllLabels\",\"id\":\"p1047\"}}}],\"center\":[{\"type\":\"object\",\"name\":\"Grid\",\"id\":\"p1048\",\"attributes\":{\"axis\":{\"id\":\"p1044\"},\"grid_line_color\":null}},{\"type\":\"object\",\"name\":\"Grid\",\"id\":\"p1053\",\"attributes\":{\"dimension\":1,\"axis\":{\"id\":\"p1049\"},\"grid_line_color\":null}}],\"frame_width\":800,\"frame_height\":600,\"min_border_top\":10,\"min_border_bottom\":10,\"min_border_left\":10,\"min_border_right\":10,\"output_backend\":\"webgl\",\"match_aspect\":true}},{\"type\":\"object\",\"name\":\"Spacer\",\"id\":\"p1089\",\"attributes\":{\"name\":\"HSpacer01696\",\"stylesheets\":[\"\\n:host(.pn-loading.pn-arc):before, .pn-loading.pn-arc:before {\\n  background-image: url(\\\"data:image/svg+xml;base64,PHN2ZyB4bWxucz0iaHR0cDovL3d3dy53My5vcmcvMjAwMC9zdmciIHN0eWxlPSJtYXJnaW46IGF1dG87IGJhY2tncm91bmQ6IG5vbmU7IGRpc3BsYXk6IGJsb2NrOyBzaGFwZS1yZW5kZXJpbmc6IGF1dG87IiB2aWV3Qm94PSIwIDAgMTAwIDEwMCIgcHJlc2VydmVBc3BlY3RSYXRpbz0ieE1pZFlNaWQiPiAgPGNpcmNsZSBjeD0iNTAiIGN5PSI1MCIgZmlsbD0ibm9uZSIgc3Ryb2tlPSIjYzNjM2MzIiBzdHJva2Utd2lkdGg9IjEwIiByPSIzNSIgc3Ryb2tlLWRhc2hhcnJheT0iMTY0LjkzMzYxNDMxMzQ2NDE1IDU2Ljk3Nzg3MTQzNzgyMTM4Ij4gICAgPGFuaW1hdGVUcmFuc2Zvcm0gYXR0cmlidXRlTmFtZT0idHJhbnNmb3JtIiB0eXBlPSJyb3RhdGUiIHJlcGVhdENvdW50PSJpbmRlZmluaXRlIiBkdXI9IjFzIiB2YWx1ZXM9IjAgNTAgNTA7MzYwIDUwIDUwIiBrZXlUaW1lcz0iMDsxIj48L2FuaW1hdGVUcmFuc2Zvcm0+ICA8L2NpcmNsZT48L3N2Zz4=\\\");\\n  background-size: auto calc(min(50%, 400px));\\n}\",{\"id\":\"p1010\"},{\"id\":\"p1008\"},{\"id\":\"p1009\"}],\"margin\":0,\"sizing_mode\":\"stretch_width\",\"align\":\"start\"}}]}}],\"defs\":[{\"type\":\"model\",\"name\":\"ReactiveHTML1\"},{\"type\":\"model\",\"name\":\"FlexBox1\",\"properties\":[{\"name\":\"align_content\",\"kind\":\"Any\",\"default\":\"flex-start\"},{\"name\":\"align_items\",\"kind\":\"Any\",\"default\":\"flex-start\"},{\"name\":\"flex_direction\",\"kind\":\"Any\",\"default\":\"row\"},{\"name\":\"flex_wrap\",\"kind\":\"Any\",\"default\":\"wrap\"},{\"name\":\"justify_content\",\"kind\":\"Any\",\"default\":\"flex-start\"}]},{\"type\":\"model\",\"name\":\"FloatPanel1\",\"properties\":[{\"name\":\"config\",\"kind\":\"Any\",\"default\":{\"type\":\"map\"}},{\"name\":\"contained\",\"kind\":\"Any\",\"default\":true},{\"name\":\"position\",\"kind\":\"Any\",\"default\":\"right-top\"},{\"name\":\"offsetx\",\"kind\":\"Any\",\"default\":null},{\"name\":\"offsety\",\"kind\":\"Any\",\"default\":null},{\"name\":\"theme\",\"kind\":\"Any\",\"default\":\"primary\"},{\"name\":\"status\",\"kind\":\"Any\",\"default\":\"normalized\"}]},{\"type\":\"model\",\"name\":\"GridStack1\",\"properties\":[{\"name\":\"mode\",\"kind\":\"Any\",\"default\":\"warn\"},{\"name\":\"ncols\",\"kind\":\"Any\",\"default\":null},{\"name\":\"nrows\",\"kind\":\"Any\",\"default\":null},{\"name\":\"allow_resize\",\"kind\":\"Any\",\"default\":true},{\"name\":\"allow_drag\",\"kind\":\"Any\",\"default\":true},{\"name\":\"state\",\"kind\":\"Any\",\"default\":[]}]},{\"type\":\"model\",\"name\":\"drag1\",\"properties\":[{\"name\":\"slider_width\",\"kind\":\"Any\",\"default\":5},{\"name\":\"slider_color\",\"kind\":\"Any\",\"default\":\"black\"},{\"name\":\"value\",\"kind\":\"Any\",\"default\":50}]},{\"type\":\"model\",\"name\":\"click1\",\"properties\":[{\"name\":\"terminal_output\",\"kind\":\"Any\",\"default\":\"\"},{\"name\":\"debug_name\",\"kind\":\"Any\",\"default\":\"\"},{\"name\":\"clears\",\"kind\":\"Any\",\"default\":0}]},{\"type\":\"model\",\"name\":\"copy_to_clipboard1\",\"properties\":[{\"name\":\"fill\",\"kind\":\"Any\",\"default\":\"none\"},{\"name\":\"value\",\"kind\":\"Any\",\"default\":null}]},{\"type\":\"model\",\"name\":\"FastWrapper1\",\"properties\":[{\"name\":\"object\",\"kind\":\"Any\",\"default\":null},{\"name\":\"style\",\"kind\":\"Any\",\"default\":null}]},{\"type\":\"model\",\"name\":\"NotificationAreaBase1\",\"properties\":[{\"name\":\"js_events\",\"kind\":\"Any\",\"default\":{\"type\":\"map\"}},{\"name\":\"position\",\"kind\":\"Any\",\"default\":\"bottom-right\"},{\"name\":\"_clear\",\"kind\":\"Any\",\"default\":0}]},{\"type\":\"model\",\"name\":\"NotificationArea1\",\"properties\":[{\"name\":\"js_events\",\"kind\":\"Any\",\"default\":{\"type\":\"map\"}},{\"name\":\"notifications\",\"kind\":\"Any\",\"default\":[]},{\"name\":\"position\",\"kind\":\"Any\",\"default\":\"bottom-right\"},{\"name\":\"_clear\",\"kind\":\"Any\",\"default\":0},{\"name\":\"types\",\"kind\":\"Any\",\"default\":[{\"type\":\"map\",\"entries\":[[\"type\",\"warning\"],[\"background\",\"#ffc107\"],[\"icon\",{\"type\":\"map\",\"entries\":[[\"className\",\"fas fa-exclamation-triangle\"],[\"tagName\",\"i\"],[\"color\",\"white\"]]}]]},{\"type\":\"map\",\"entries\":[[\"type\",\"info\"],[\"background\",\"#007bff\"],[\"icon\",{\"type\":\"map\",\"entries\":[[\"className\",\"fas fa-info-circle\"],[\"tagName\",\"i\"],[\"color\",\"white\"]]}]]}]}]},{\"type\":\"model\",\"name\":\"Notification\",\"properties\":[{\"name\":\"background\",\"kind\":\"Any\",\"default\":null},{\"name\":\"duration\",\"kind\":\"Any\",\"default\":3000},{\"name\":\"icon\",\"kind\":\"Any\",\"default\":null},{\"name\":\"message\",\"kind\":\"Any\",\"default\":\"\"},{\"name\":\"notification_type\",\"kind\":\"Any\",\"default\":null},{\"name\":\"_destroyed\",\"kind\":\"Any\",\"default\":false}]},{\"type\":\"model\",\"name\":\"TemplateActions1\",\"properties\":[{\"name\":\"open_modal\",\"kind\":\"Any\",\"default\":0},{\"name\":\"close_modal\",\"kind\":\"Any\",\"default\":0}]},{\"type\":\"model\",\"name\":\"BootstrapTemplateActions1\",\"properties\":[{\"name\":\"open_modal\",\"kind\":\"Any\",\"default\":0},{\"name\":\"close_modal\",\"kind\":\"Any\",\"default\":0}]},{\"type\":\"model\",\"name\":\"MaterialTemplateActions1\",\"properties\":[{\"name\":\"open_modal\",\"kind\":\"Any\",\"default\":0},{\"name\":\"close_modal\",\"kind\":\"Any\",\"default\":0}]}]}};\n",
       "  var render_items = [{\"docid\":\"22735846-99c8-4aa7-a1d5-d97e366a2794\",\"roots\":{\"p1007\":\"c29a1f50-8628-4d17-b589-e04b41cc1495\"},\"root_ids\":[\"p1007\"]}];\n",
       "  var docs = Object.values(docs_json)\n",
       "  if (!docs) {\n",
       "    return\n",
       "  }\n",
       "  const py_version = docs[0].version.replace('rc', '-rc.').replace('.dev', '-dev.')\n",
       "  function embed_document(root) {\n",
       "    var Bokeh = get_bokeh(root)\n",
       "    Bokeh.embed.embed_items_notebook(docs_json, render_items);\n",
       "    for (const render_item of render_items) {\n",
       "      for (const root_id of render_item.root_ids) {\n",
       "\tconst id_el = document.getElementById(root_id)\n",
       "\tif (id_el.children.length && (id_el.children[0].className === 'bk-root')) {\n",
       "\t  const root_el = id_el.children[0]\n",
       "\t  root_el.id = root_el.id + '-rendered'\n",
       "\t}\n",
       "      }\n",
       "    }\n",
       "  }\n",
       "  function get_bokeh(root) {\n",
       "    if (root.Bokeh === undefined) {\n",
       "      return null\n",
       "    } else if (root.Bokeh.version !== py_version) {\n",
       "      if (root.Bokeh.versions === undefined || !root.Bokeh.versions.has(py_version)) {\n",
       "\treturn null\n",
       "      }\n",
       "      return root.Bokeh.versions.get(py_version);\n",
       "    } else if (root.Bokeh.version === py_version) {\n",
       "      return root.Bokeh\n",
       "    }\n",
       "    return null\n",
       "  }\n",
       "  function is_loaded(root) {\n",
       "    var Bokeh = get_bokeh(root)\n",
       "    return (Bokeh != null && Bokeh.Panel !== undefined)\n",
       "  }\n",
       "  if (is_loaded(root)) {\n",
       "    embed_document(root);\n",
       "  } else {\n",
       "    var attempts = 0;\n",
       "    var timer = setInterval(function(root) {\n",
       "      if (is_loaded(root)) {\n",
       "        clearInterval(timer);\n",
       "        embed_document(root);\n",
       "      } else if (document.readyState == \"complete\") {\n",
       "        attempts++;\n",
       "        if (attempts > 200) {\n",
       "          clearInterval(timer);\n",
       "\t  var Bokeh = get_bokeh(root)\n",
       "\t  if (Bokeh == null || Bokeh.Panel == null) {\n",
       "            console.warn(\"Panel: ERROR: Unable to run Panel code because Bokeh or Panel library is missing\");\n",
       "\t  } else {\n",
       "\t    console.warn(\"Panel: WARNING: Attempting to render but not all required libraries could be resolved.\")\n",
       "\t    embed_document(root)\n",
       "\t  }\n",
       "        }\n",
       "      }\n",
       "    }, 25, root)\n",
       "  }\n",
       "})(window);</script>"
      ],
      "text/plain": [
       ":Overlay\n",
       "   .WMTS.I   :WMTS   [Longitude,Latitude]\n",
       "   .Points.I :Points   [Lng,Lat]   (City,Country)"
      ]
     },
     "execution_count": 6,
     "metadata": {
      "application/vnd.holoviews_exec.v0+json": {
       "id": "p1007"
      }
     },
     "output_type": "execute_result"
    }
   ],
   "source": [
    "%%capture --no-display\n",
    "\n",
    "# Configure the map plot\n",
    "map_plot = city_data_df.hvplot.points(\n",
    "    \"Lng\",\n",
    "    \"Lat\",\n",
    "    geo = True,\n",
    "    tiles = \"OSM\",  \n",
    "    frame_width = 800,\n",
    "    frame_height = 600,\n",
    "    size = \"City_Population\",\n",
    "    scale = 0.05,\n",
    "    color = \"City\",  \n",
    "    alpha = 0.7,\n",
    "    hover_cols = [\"City\", \"Country\", \"City_Population\"] \n",
    ")\n",
    "\n",
    "# Display the map\n",
    "map_plot\n"
   ]
  },
  {
   "cell_type": "markdown",
   "metadata": {},
   "source": [
    "### Step 2: Narrow down the `city_data_df` DataFrame to find your ideal weather condition"
   ]
  },
  {
   "cell_type": "code",
   "execution_count": 10,
   "metadata": {},
   "outputs": [
    {
     "name": "stdout",
     "output_type": "stream",
     "text": [
      "Filtered Cities:\n",
      "--------------------\n",
      "City: kapaa, Country: US, Max Temp: 22.99, Wind Speed: 3.6, Cloudiness: 0\n",
      "City: hilo, Country: US, Max Temp: 26.27, Wind Speed: 2.57, Cloudiness: 0\n",
      "City: banda, Country: IN, Max Temp: 24.62, Wind Speed: 2.68, Cloudiness: 0\n",
      "City: makakilo city, Country: US, Max Temp: 21.66, Wind Speed: 2.57, Cloudiness: 0\n",
      "City: kahului, Country: US, Max Temp: 23.8, Wind Speed: 3.09, Cloudiness: 0\n"
     ]
    },
    {
     "name": "stderr",
     "output_type": "stream",
     "text": [
      "C:\\Users\\joesa\\AppData\\Local\\Temp\\ipykernel_7796\\1708783719.py:10: SettingWithCopyWarning: \n",
      "A value is trying to be set on a copy of a slice from a DataFrame\n",
      "\n",
      "See the caveats in the documentation: https://pandas.pydata.org/pandas-docs/stable/user_guide/indexing.html#returning-a-view-versus-a-copy\n",
      "  filtered_cities_df.dropna(inplace=True)\n"
     ]
    }
   ],
   "source": [
    "# Narrow down cities that fit criteria (updated to your conditions)\n",
    "filtered_cities_df = city_data_df.loc[\n",
    "    (city_data_df[\"Max Temp\"] < 27) &\n",
    "    (city_data_df[\"Max Temp\"] > 21) &\n",
    "    (city_data_df[\"Wind Speed\"] < 4.5) &\n",
    "    (city_data_df[\"Cloudiness\"] == 0)\n",
    "]\n",
    "\n",
    "# Drop any rows with null values\n",
    "filtered_cities_df.dropna(inplace=True)\n",
    "\n",
    "# Display sample data (without tabulate)\n",
    "print(\"Filtered Cities:\")\n",
    "print(\"-\" * 20)\n",
    "if not filtered_cities_df.empty:  \n",
    "    for index, row in filtered_cities_df.head().iterrows():\n",
    "        print(f\"City: {row['City']}, Country: {row['Country']}, Max Temp: {row['Max Temp']}, Wind Speed: {row['Wind Speed']}, Cloudiness: {row['Cloudiness']}\")\n",
    "else:\n",
    "    print(\"No cities found that match the criteria.\")\n"
   ]
  },
  {
   "cell_type": "markdown",
   "metadata": {},
   "source": [
    "### Step 3: Create a new DataFrame called `hotel_df`."
   ]
  },
  {
   "cell_type": "code",
   "execution_count": 12,
   "metadata": {},
   "outputs": [
    {
     "name": "stdout",
     "output_type": "stream",
     "text": [
      "Potential Hotel Locations:\n",
      "--------------------\n",
      "City: kapaa, Country: US, Lat: 22.0752, Lng: -159.319, Humidity: 84, Hotel Name: \n",
      "City: hilo, Country: US, Lat: 19.7297, Lng: -155.09, Humidity: 83, Hotel Name: \n",
      "City: banda, Country: IN, Lat: 25.4833, Lng: 80.3333, Humidity: 52, Hotel Name: \n",
      "City: makakilo city, Country: US, Lat: 21.3469, Lng: -158.0858, Humidity: 81, Hotel Name: \n",
      "City: kahului, Country: US, Lat: 20.8947, Lng: -156.47, Humidity: 60, Hotel Name: \n"
     ]
    }
   ],
   "source": [
    "# Create a copy of the filtered DataFrame for hotels\n",
    "hotel_df = filtered_cities_df[[\"City\", \"Country\", \"Lat\", \"Lng\", \"Humidity\"]].copy()  \n",
    "\n",
    "# Add an empty column for Hotel Name\n",
    "hotel_df[\"Hotel Name\"] = \"\"\n",
    "\n",
    "# Display the first 5 rows of hotel_df\n",
    "print(\"Potential Hotel Locations:\")\n",
    "print(\"-\" * 20)\n",
    "for index, row in hotel_df.head().iterrows():\n",
    "    print(f\"City: {row['City']}, Country: {row['Country']}, Lat: {row['Lat']}, Lng: {row['Lng']}, Humidity: {row['Humidity']}, Hotel Name: {row['Hotel Name']}\")\n"
   ]
  },
  {
   "cell_type": "markdown",
   "metadata": {},
   "source": [
    "### Step 4: For each city, use the Geoapify API to find the first hotel located within 10,000 metres of your coordinates."
   ]
  },
  {
   "cell_type": "code",
   "execution_count": 14,
   "metadata": {},
   "outputs": [
    {
     "name": "stdout",
     "output_type": "stream",
     "text": [
      "Starting hotel search...\n",
      "kapaa - nearest hotel: Pono Kai Resort\n",
      "hilo - nearest hotel: Dolphin Bay Hotel\n",
      "banda - nearest hotel: #acnindiafy21\n",
      "makakilo city - nearest hotel: Embassy Suites by Hilton Oahu Kapolei\n",
      "kahului - nearest hotel: Maui Seaside Hotel\n",
      "gat - nearest hotel: No hotel found\n",
      "laguna - nearest hotel: Holiday Inn Express & Suites\n",
      "tikaitnagar - nearest hotel: No hotel found\n",
      "san quintin - nearest hotel: Jardines Hotel\n",
      "santa rosalia - nearest hotel: Sol y Mar\n",
      "narwar - nearest hotel: No hotel found\n",
      "port hedland - nearest hotel: The Esplanade Hotel\n",
      "roebourne - nearest hotel: No hotel found\n",
      "saint-francois - nearest hotel: Chez Lily\n",
      "capoterra - nearest hotel: Rosa Hotel\n",
      "stolac - nearest hotel: Bregava\n",
      "guerrero negro - nearest hotel: Plaza sal paraiso\n",
      "\n",
      "Hotel Results:\n",
      "--------------------\n",
      "City: kapaa, Country: US, Lat: 22.0752, Lng: -159.319, Humidity: 84, Hotel Name: Pono Kai Resort\n",
      "City: hilo, Country: US, Lat: 19.7297, Lng: -155.09, Humidity: 83, Hotel Name: Dolphin Bay Hotel\n",
      "City: banda, Country: IN, Lat: 25.4833, Lng: 80.3333, Humidity: 52, Hotel Name: #acnindiafy21\n",
      "City: makakilo city, Country: US, Lat: 21.3469, Lng: -158.0858, Humidity: 81, Hotel Name: Embassy Suites by Hilton Oahu Kapolei\n",
      "City: kahului, Country: US, Lat: 20.8947, Lng: -156.47, Humidity: 60, Hotel Name: Maui Seaside Hotel\n"
     ]
    }
   ],
   "source": [
    "# Set parameters to search for a hotel within 10,000 meters\n",
    "radius = 10000  \n",
    "params = {\n",
    "    \"categories\": \"accommodation.hotel\",  # Search for hotels\n",
    "    \"limit\": 1,                         # Get only the first result\n",
    "    \"apiKey\": geoapify_key              # Your Geoapify API key\n",
    "}\n",
    "\n",
    "# Print a message to follow up the hotel search\n",
    "print(\"Starting hotel search...\")\n",
    "\n",
    "# Iterate through the hotel_df DataFrame\n",
    "for index, row in hotel_df.iterrows():\n",
    "    # Get latitude and longitude from the DataFrame\n",
    "    lat = row[\"Lat\"]\n",
    "    lng = row[\"Lng\"]\n",
    "\n",
    "    # Add filter and bias parameters with the current city's latitude and longitude to the params dictionary\n",
    "    params[\"filter\"] = f\"circle:{lng},{lat},{radius}\" \n",
    "    params[\"bias\"] = f\"proximity:{lng},{lat}\"\n",
    "\n",
    "    # Set base URL\n",
    "    base_url = \"https://api.geoapify.com/v2/places\"\n",
    "\n",
    "    # Make an API request using the params dictionary\n",
    "    response = requests.get(base_url, params=params)\n",
    "\n",
    "    # Convert the API response to JSON format\n",
    "    name_address = response.json()\n",
    "\n",
    "    # Grab the first hotel from the results and store the name in the hotel_df DataFrame\n",
    "    try:\n",
    "        hotel_df.loc[index, \"Hotel Name\"] = name_address[\"features\"][0][\"properties\"][\"name\"]\n",
    "    except (KeyError, IndexError):\n",
    "        # If no hotel is found, set the hotel name as \"No hotel found\"\n",
    "        hotel_df.loc[index, \"Hotel Name\"] = \"No hotel found\"\n",
    "\n",
    "    # Log the search results\n",
    "    print(f\"{hotel_df.loc[index, 'City']} - nearest hotel: {hotel_df.loc[index, 'Hotel Name']}\")\n",
    "\n",
    "# Display sample data\n",
    "print(\"\\nHotel Results:\")\n",
    "print(\"-\" * 20)\n",
    "for index, row in hotel_df.head().iterrows():\n",
    "    print(f\"City: {row['City']}, Country: {row['Country']}, Lat: {row['Lat']}, Lng: {row['Lng']}, Humidity: {row['Humidity']}, Hotel Name: {row['Hotel Name']}\")\n"
   ]
  },
  {
   "cell_type": "markdown",
   "metadata": {},
   "source": [
    "### Step 5: Add the hotel name and the country as additional information in the hover message for each city in the map."
   ]
  },
  {
   "cell_type": "code",
   "execution_count": 15,
   "metadata": {},
   "outputs": [
    {
     "data": {},
     "metadata": {},
     "output_type": "display_data"
    },
    {
     "data": {
      "application/vnd.holoviews_exec.v0+json": "",
      "text/html": [
       "<div id='p1095'>\n",
       "  <div id=\"c8c6cef4-dc67-40d7-b565-ba55b806aa48\" data-root-id=\"p1095\" style=\"display: contents;\"></div>\n",
       "</div>\n",
       "<script type=\"application/javascript\">(function(root) {\n",
       "  var docs_json = {\"c16e05d8-7e63-47bc-81ba-ec231574510d\":{\"version\":\"3.3.0\",\"title\":\"Bokeh Application\",\"roots\":[{\"type\":\"object\",\"name\":\"Row\",\"id\":\"p1095\",\"attributes\":{\"name\":\"Row01897\",\"tags\":[\"embedded\"],\"stylesheets\":[\"\\n:host(.pn-loading.pn-arc):before, .pn-loading.pn-arc:before {\\n  background-image: url(\\\"data:image/svg+xml;base64,PHN2ZyB4bWxucz0iaHR0cDovL3d3dy53My5vcmcvMjAwMC9zdmciIHN0eWxlPSJtYXJnaW46IGF1dG87IGJhY2tncm91bmQ6IG5vbmU7IGRpc3BsYXk6IGJsb2NrOyBzaGFwZS1yZW5kZXJpbmc6IGF1dG87IiB2aWV3Qm94PSIwIDAgMTAwIDEwMCIgcHJlc2VydmVBc3BlY3RSYXRpbz0ieE1pZFlNaWQiPiAgPGNpcmNsZSBjeD0iNTAiIGN5PSI1MCIgZmlsbD0ibm9uZSIgc3Ryb2tlPSIjYzNjM2MzIiBzdHJva2Utd2lkdGg9IjEwIiByPSIzNSIgc3Ryb2tlLWRhc2hhcnJheT0iMTY0LjkzMzYxNDMxMzQ2NDE1IDU2Ljk3Nzg3MTQzNzgyMTM4Ij4gICAgPGFuaW1hdGVUcmFuc2Zvcm0gYXR0cmlidXRlTmFtZT0idHJhbnNmb3JtIiB0eXBlPSJyb3RhdGUiIHJlcGVhdENvdW50PSJpbmRlZmluaXRlIiBkdXI9IjFzIiB2YWx1ZXM9IjAgNTAgNTA7MzYwIDUwIDUwIiBrZXlUaW1lcz0iMDsxIj48L2FuaW1hdGVUcmFuc2Zvcm0+ICA8L2NpcmNsZT48L3N2Zz4=\\\");\\n  background-size: auto calc(min(50%, 400px));\\n}\",{\"type\":\"object\",\"name\":\"ImportedStyleSheet\",\"id\":\"p1098\",\"attributes\":{\"url\":\"https://cdn.holoviz.org/panel/1.3.8/dist/css/loading.css\"}},{\"type\":\"object\",\"name\":\"ImportedStyleSheet\",\"id\":\"p1215\",\"attributes\":{\"url\":\"https://cdn.holoviz.org/panel/1.3.8/dist/css/listpanel.css\"}},{\"type\":\"object\",\"name\":\"ImportedStyleSheet\",\"id\":\"p1096\",\"attributes\":{\"url\":\"https://cdn.holoviz.org/panel/1.3.8/dist/bundled/theme/default.css\"}},{\"type\":\"object\",\"name\":\"ImportedStyleSheet\",\"id\":\"p1097\",\"attributes\":{\"url\":\"https://cdn.holoviz.org/panel/1.3.8/dist/bundled/theme/native.css\"}}],\"margin\":0,\"sizing_mode\":\"stretch_width\",\"align\":\"start\",\"children\":[{\"type\":\"object\",\"name\":\"Spacer\",\"id\":\"p1099\",\"attributes\":{\"name\":\"HSpacer01903\",\"stylesheets\":[\"\\n:host(.pn-loading.pn-arc):before, .pn-loading.pn-arc:before {\\n  background-image: url(\\\"data:image/svg+xml;base64,PHN2ZyB4bWxucz0iaHR0cDovL3d3dy53My5vcmcvMjAwMC9zdmciIHN0eWxlPSJtYXJnaW46IGF1dG87IGJhY2tncm91bmQ6IG5vbmU7IGRpc3BsYXk6IGJsb2NrOyBzaGFwZS1yZW5kZXJpbmc6IGF1dG87IiB2aWV3Qm94PSIwIDAgMTAwIDEwMCIgcHJlc2VydmVBc3BlY3RSYXRpbz0ieE1pZFlNaWQiPiAgPGNpcmNsZSBjeD0iNTAiIGN5PSI1MCIgZmlsbD0ibm9uZSIgc3Ryb2tlPSIjYzNjM2MzIiBzdHJva2Utd2lkdGg9IjEwIiByPSIzNSIgc3Ryb2tlLWRhc2hhcnJheT0iMTY0LjkzMzYxNDMxMzQ2NDE1IDU2Ljk3Nzg3MTQzNzgyMTM4Ij4gICAgPGFuaW1hdGVUcmFuc2Zvcm0gYXR0cmlidXRlTmFtZT0idHJhbnNmb3JtIiB0eXBlPSJyb3RhdGUiIHJlcGVhdENvdW50PSJpbmRlZmluaXRlIiBkdXI9IjFzIiB2YWx1ZXM9IjAgNTAgNTA7MzYwIDUwIDUwIiBrZXlUaW1lcz0iMDsxIj48L2FuaW1hdGVUcmFuc2Zvcm0+ICA8L2NpcmNsZT48L3N2Zz4=\\\");\\n  background-size: auto calc(min(50%, 400px));\\n}\",{\"id\":\"p1098\"},{\"id\":\"p1096\"},{\"id\":\"p1097\"}],\"margin\":0,\"sizing_mode\":\"stretch_width\",\"align\":\"start\"}},{\"type\":\"object\",\"name\":\"Figure\",\"id\":\"p1133\",\"attributes\":{\"width\":null,\"height\":null,\"margin\":[5,10],\"sizing_mode\":\"fixed\",\"align\":\"start\",\"x_range\":{\"type\":\"object\",\"name\":\"Range1d\",\"id\":\"p1115\",\"attributes\":{\"tags\":[[[\"Longitude\",\"Longitude\",null]],[]],\"start\":-20055366.92238114,\"end\":15518841.6377264,\"reset_start\":-20055366.92238114,\"reset_end\":15518841.6377264,\"min_interval\":5}},\"y_range\":{\"type\":\"object\",\"name\":\"Range1d\",\"id\":\"p1116\",\"attributes\":{\"tags\":[[[\"Latitude\",\"Latitude\",null]],{\"type\":\"map\",\"entries\":[[\"invert_yaxis\",false],[\"autorange\",false]]}],\"start\":-11599772.736750897,\"end\":15080883.683329763,\"reset_start\":-11599772.736750897,\"reset_end\":15080883.683329763,\"min_interval\":5}},\"x_scale\":{\"type\":\"object\",\"name\":\"LinearScale\",\"id\":\"p1143\"},\"y_scale\":{\"type\":\"object\",\"name\":\"LinearScale\",\"id\":\"p1144\"},\"title\":{\"type\":\"object\",\"name\":\"Title\",\"id\":\"p1136\",\"attributes\":{\"text_color\":\"black\",\"text_font_size\":\"12pt\"}},\"renderers\":[{\"type\":\"object\",\"name\":\"TileRenderer\",\"id\":\"p1166\",\"attributes\":{\"level\":\"underlay\",\"tile_source\":{\"type\":\"object\",\"name\":\"WMTSTileSource\",\"id\":\"p1162\",\"attributes\":{\"url\":\"https://c.tile.openstreetmap.org/{Z}/{X}/{Y}.png\",\"attribution\":\"&copy; <a href=\\\"https://www.openstreetmap.org/copyright\\\">OpenStreetMap</a> contributors\"}}}},{\"type\":\"object\",\"name\":\"GlyphRenderer\",\"id\":\"p1182\",\"attributes\":{\"name\":\"color\",\"data_source\":{\"type\":\"object\",\"name\":\"ColumnDataSource\",\"id\":\"p1171\",\"attributes\":{\"selected\":{\"type\":\"object\",\"name\":\"Selection\",\"id\":\"p1172\",\"attributes\":{\"indices\":[],\"line_indices\":[]}},\"selection_policy\":{\"type\":\"object\",\"name\":\"UnionRenderers\",\"id\":\"p1173\"},\"data\":{\"type\":\"map\",\"entries\":[[\"Lng\",{\"type\":\"ndarray\",\"array\":{\"type\":\"bytes\",\"data\":\"PlRC3+jpcMF56zu9+XZwwUt/l8GIDmFB1VIf7GTIcMEvPZcLe5xwwendWoV2hk1BqgXCcgTIacFrODltelJhQVmto958nmjBkpT6+C7XZ8HkQ6aKRYpgQTnEaBW4LGlBpC/zac7eaEENNbCO7IgaQUtSPWqgei5BxvyDwauAPkFcQkjy0DdowQ==\"},\"shape\":[17],\"dtype\":\"float64\",\"order\":\"little\"}],[\"Lat\",{\"type\":\"ndarray\",\"array\":{\"type\":\"bytes\",\"data\":\"9KYbJfY6Q0F2St/CBhlBQbjNdnPcZEZBkjISjYWQQkGXO86NHydCQeQ9c55wUkxBWI+IuVeyUUFP0BImVchHQcNOkweBNEtB1NiVoOshSEFldwQQCo1GQdFUgi/doEHBZNKFDTUNQsGwVg5GIE5WQU6auSWzG1JBv5ZPzgZQVEE+IC/c9sNIQQ==\"},\"shape\":[17],\"dtype\":\"float64\",\"order\":\"little\"}],[\"City\",[\"kapaa\",\"hilo\",\"banda\",\"makakilo city\",\"kahului\",\"gat\",\"laguna\",\"tikaitnagar\",\"san quintin\",\"santa rosalia\",\"narwar\",\"port hedland\",\"roebourne\",\"saint-francois\",\"capoterra\",\"stolac\",\"guerrero negro\"]],[\"Country\",[\"US\",\"US\",\"IN\",\"US\",\"US\",\"IL\",\"US\",\"IN\",\"MX\",\"MX\",\"IN\",\"AU\",\"AU\",\"FR\",\"IT\",\"BA\",\"MX\"]],[\"Hotel_Name\",[\"Pono Kai Resort\",\"Dolphin Bay Hotel\",\"#acnindiafy21\",\"Embassy Suites by Hilton Oahu Kapolei\",\"Maui Seaside Hotel\",\"No hotel found\",\"Holiday Inn Express & Suites\",\"No hotel found\",\"Jardines Hotel\",\"Sol y Mar\",\"No hotel found\",\"The Esplanade Hotel\",\"No hotel found\",\"Chez Lily\",\"Rosa Hotel\",\"Bregava\",\"Plaza sal paraiso\"]],[\"color\",[\"kapaa\",\"hilo\",\"banda\",\"makakilo city\",\"kahului\",\"gat\",\"laguna\",\"tikaitnagar\",\"san quintin\",\"santa rosalia\",\"narwar\",\"port hedland\",\"roebourne\",\"saint-francois\",\"capoterra\",\"stolac\",\"guerrero negro\"]]]}}},\"view\":{\"type\":\"object\",\"name\":\"CDSView\",\"id\":\"p1183\",\"attributes\":{\"filter\":{\"type\":\"object\",\"name\":\"AllIndices\",\"id\":\"p1184\"}}},\"glyph\":{\"type\":\"object\",\"name\":\"Scatter\",\"id\":\"p1177\",\"attributes\":{\"tags\":[\"apply_ranges\"],\"x\":{\"type\":\"field\",\"field\":\"Lng\"},\"y\":{\"type\":\"field\",\"field\":\"Lat\"},\"size\":{\"type\":\"value\",\"value\":3.872983346207417},\"line_color\":{\"type\":\"field\",\"field\":\"color\",\"transform\":{\"type\":\"object\",\"name\":\"CategoricalColorMapper\",\"id\":\"p1170\",\"attributes\":{\"palette\":[\"#1f77b3\",\"#ff7e0e\",\"#2ba02b\",\"#d62628\",\"#9367bc\",\"#8c564b\",\"#e277c1\",\"#7e7e7e\",\"#bcbc21\",\"#16bdcf\",\"#3a0182\",\"#004201\",\"#0fffa8\",\"#5d003f\",\"#bcbcff\",\"#d8afa1\",\"#b80080\"],\"factors\":[\"kapaa\",\"hilo\",\"banda\",\"makakilo city\",\"kahului\",\"gat\",\"laguna\",\"tikaitnagar\",\"san quintin\",\"santa rosalia\",\"narwar\",\"port hedland\",\"roebourne\",\"saint-francois\",\"capoterra\",\"stolac\",\"guerrero negro\"]}}},\"fill_color\":{\"type\":\"field\",\"field\":\"color\",\"transform\":{\"id\":\"p1170\"}},\"hatch_color\":{\"type\":\"field\",\"field\":\"color\",\"transform\":{\"id\":\"p1170\"}}}},\"selection_glyph\":{\"type\":\"object\",\"name\":\"Scatter\",\"id\":\"p1179\",\"attributes\":{\"tags\":[\"apply_ranges\"],\"x\":{\"type\":\"field\",\"field\":\"Lng\"},\"y\":{\"type\":\"field\",\"field\":\"Lat\"},\"size\":{\"type\":\"value\",\"value\":3.872983346207417},\"line_color\":{\"type\":\"field\",\"field\":\"color\",\"transform\":{\"id\":\"p1170\"}},\"fill_color\":{\"type\":\"field\",\"field\":\"color\",\"transform\":{\"id\":\"p1170\"}},\"hatch_color\":{\"type\":\"field\",\"field\":\"color\",\"transform\":{\"id\":\"p1170\"}}}},\"nonselection_glyph\":{\"type\":\"object\",\"name\":\"Scatter\",\"id\":\"p1178\",\"attributes\":{\"tags\":[\"apply_ranges\"],\"x\":{\"type\":\"field\",\"field\":\"Lng\"},\"y\":{\"type\":\"field\",\"field\":\"Lat\"},\"size\":{\"type\":\"value\",\"value\":3.872983346207417},\"line_color\":{\"type\":\"field\",\"field\":\"color\",\"transform\":{\"id\":\"p1170\"}},\"line_alpha\":{\"type\":\"value\",\"value\":0.1},\"fill_color\":{\"type\":\"field\",\"field\":\"color\",\"transform\":{\"id\":\"p1170\"}},\"fill_alpha\":{\"type\":\"value\",\"value\":0.1},\"hatch_color\":{\"type\":\"field\",\"field\":\"color\",\"transform\":{\"id\":\"p1170\"}},\"hatch_alpha\":{\"type\":\"value\",\"value\":0.1}}},\"hover_glyph\":{\"type\":\"object\",\"name\":\"Scatter\",\"id\":\"p1180\",\"attributes\":{\"tags\":[\"apply_ranges\"],\"x\":{\"type\":\"field\",\"field\":\"Lng\"},\"y\":{\"type\":\"field\",\"field\":\"Lat\"},\"size\":{\"type\":\"value\",\"value\":3.872983346207417},\"line_color\":{\"type\":\"field\",\"field\":\"color\",\"transform\":{\"id\":\"p1170\"}},\"fill_color\":{\"type\":\"field\",\"field\":\"color\",\"transform\":{\"id\":\"p1170\"}},\"hatch_color\":{\"type\":\"field\",\"field\":\"color\",\"transform\":{\"id\":\"p1170\"}}}},\"muted_glyph\":{\"type\":\"object\",\"name\":\"Scatter\",\"id\":\"p1181\",\"attributes\":{\"tags\":[\"apply_ranges\"],\"x\":{\"type\":\"field\",\"field\":\"Lng\"},\"y\":{\"type\":\"field\",\"field\":\"Lat\"},\"size\":{\"type\":\"value\",\"value\":3.872983346207417},\"line_color\":{\"type\":\"field\",\"field\":\"color\",\"transform\":{\"id\":\"p1170\"}},\"line_alpha\":{\"type\":\"value\",\"value\":0.2},\"fill_color\":{\"type\":\"field\",\"field\":\"color\",\"transform\":{\"id\":\"p1170\"}},\"fill_alpha\":{\"type\":\"value\",\"value\":0.2},\"hatch_color\":{\"type\":\"field\",\"field\":\"color\",\"transform\":{\"id\":\"p1170\"}},\"hatch_alpha\":{\"type\":\"value\",\"value\":0.2}}}}},{\"type\":\"object\",\"name\":\"TileRenderer\",\"id\":\"p1193\",\"attributes\":{\"level\":\"underlay\",\"tile_source\":{\"type\":\"object\",\"name\":\"WMTSTileSource\",\"id\":\"p1189\",\"attributes\":{\"url\":\"https://c.tile.openstreetmap.org/{Z}/{X}/{Y}.png\",\"attribution\":\"&copy; <a href=\\\"https://www.openstreetmap.org/copyright\\\">OpenStreetMap</a> contributors\"}}}},{\"type\":\"object\",\"name\":\"GlyphRenderer\",\"id\":\"p1206\",\"attributes\":{\"data_source\":{\"type\":\"object\",\"name\":\"ColumnDataSource\",\"id\":\"p1197\",\"attributes\":{\"selected\":{\"type\":\"object\",\"name\":\"Selection\",\"id\":\"p1198\",\"attributes\":{\"indices\":[],\"line_indices\":[]}},\"selection_policy\":{\"type\":\"object\",\"name\":\"UnionRenderers\",\"id\":\"p1199\"},\"data\":{\"type\":\"map\",\"entries\":[[\"Lng\",{\"type\":\"ndarray\",\"array\":{\"type\":\"bytes\",\"data\":\"PlRC3+jpcMF56zu9+XZwwUt/l8GIDmFB1VIf7GTIcMEvPZcLe5xwwaoFwnIEyGnBWa2j3nyeaMGSlPr4LtdnwTnEaBW4LGlBDTWwjuyIGkFLUj1qoHouQcb8g8GrgD5BXEJI8tA3aME=\"},\"shape\":[13],\"dtype\":\"float64\",\"order\":\"little\"}],[\"Lat\",{\"type\":\"ndarray\",\"array\":{\"type\":\"bytes\",\"data\":\"9KYbJfY6Q0F2St/CBhlBQbjNdnPcZEZBkjISjYWQQkGXO86NHydCQViPiLlXslFBw06TB4E0S0HU2JWg6yFIQdFUgi/doEHBsFYORiBOVkFOmrklsxtSQb+WT84GUFRBPiAv3PbDSEE=\"},\"shape\":[13],\"dtype\":\"float64\",\"order\":\"little\"}],[\"City\",[\"kapaa\",\"hilo\",\"banda\",\"makakilo city\",\"kahului\",\"laguna\",\"san quintin\",\"santa rosalia\",\"port hedland\",\"saint-francois\",\"capoterra\",\"stolac\",\"guerrero negro\"]],[\"Country\",[\"US\",\"US\",\"IN\",\"US\",\"US\",\"US\",\"MX\",\"MX\",\"AU\",\"FR\",\"IT\",\"BA\",\"MX\"]],[\"Hotel_Name\",[\"Pono Kai Resort\",\"Dolphin Bay Hotel\",\"#acnindiafy21\",\"Embassy Suites by Hilton Oahu Kapolei\",\"Maui Seaside Hotel\",\"Holiday Inn Express & Suites\",\"Jardines Hotel\",\"Sol y Mar\",\"The Esplanade Hotel\",\"Chez Lily\",\"Rosa Hotel\",\"Bregava\",\"Plaza sal paraiso\"]]]}}},\"view\":{\"type\":\"object\",\"name\":\"CDSView\",\"id\":\"p1207\",\"attributes\":{\"filter\":{\"type\":\"object\",\"name\":\"AllIndices\",\"id\":\"p1208\"}}},\"glyph\":{\"type\":\"object\",\"name\":\"Scatter\",\"id\":\"p1203\",\"attributes\":{\"tags\":[\"apply_ranges\"],\"x\":{\"type\":\"field\",\"field\":\"Lng\"},\"y\":{\"type\":\"field\",\"field\":\"Lat\"},\"size\":{\"type\":\"value\",\"value\":3.872983346207417},\"line_color\":{\"type\":\"value\",\"value\":\"green\"},\"fill_color\":{\"type\":\"value\",\"value\":\"green\"},\"hatch_color\":{\"type\":\"value\",\"value\":\"green\"},\"marker\":{\"type\":\"value\",\"value\":\"star\"}}},\"selection_glyph\":{\"type\":\"object\",\"name\":\"Scatter\",\"id\":\"p1211\",\"attributes\":{\"tags\":[\"apply_ranges\"],\"x\":{\"type\":\"field\",\"field\":\"Lng\"},\"y\":{\"type\":\"field\",\"field\":\"Lat\"},\"size\":{\"type\":\"value\",\"value\":3.872983346207417},\"angle\":{\"type\":\"value\",\"value\":0.0},\"line_color\":{\"type\":\"value\",\"value\":\"green\"},\"line_alpha\":{\"type\":\"value\",\"value\":1.0},\"line_width\":{\"type\":\"value\",\"value\":1},\"line_join\":{\"type\":\"value\",\"value\":\"bevel\"},\"line_cap\":{\"type\":\"value\",\"value\":\"butt\"},\"line_dash\":{\"type\":\"value\",\"value\":[]},\"line_dash_offset\":{\"type\":\"value\",\"value\":0},\"fill_color\":{\"type\":\"value\",\"value\":\"green\"},\"fill_alpha\":{\"type\":\"value\",\"value\":1.0},\"hatch_color\":{\"type\":\"value\",\"value\":\"green\"},\"hatch_alpha\":{\"type\":\"value\",\"value\":1.0},\"hatch_scale\":{\"type\":\"value\",\"value\":12.0},\"hatch_pattern\":{\"type\":\"value\",\"value\":null},\"hatch_weight\":{\"type\":\"value\",\"value\":1.0},\"marker\":{\"type\":\"value\",\"value\":\"star\"}}},\"nonselection_glyph\":{\"type\":\"object\",\"name\":\"Scatter\",\"id\":\"p1204\",\"attributes\":{\"tags\":[\"apply_ranges\"],\"x\":{\"type\":\"field\",\"field\":\"Lng\"},\"y\":{\"type\":\"field\",\"field\":\"Lat\"},\"size\":{\"type\":\"value\",\"value\":3.872983346207417},\"line_color\":{\"type\":\"value\",\"value\":\"green\"},\"line_alpha\":{\"type\":\"value\",\"value\":0.1},\"fill_color\":{\"type\":\"value\",\"value\":\"green\"},\"fill_alpha\":{\"type\":\"value\",\"value\":0.1},\"hatch_color\":{\"type\":\"value\",\"value\":\"green\"},\"hatch_alpha\":{\"type\":\"value\",\"value\":0.1},\"marker\":{\"type\":\"value\",\"value\":\"star\"}}},\"muted_glyph\":{\"type\":\"object\",\"name\":\"Scatter\",\"id\":\"p1205\",\"attributes\":{\"tags\":[\"apply_ranges\"],\"x\":{\"type\":\"field\",\"field\":\"Lng\"},\"y\":{\"type\":\"field\",\"field\":\"Lat\"},\"size\":{\"type\":\"value\",\"value\":3.872983346207417},\"line_color\":{\"type\":\"value\",\"value\":\"green\"},\"line_alpha\":{\"type\":\"value\",\"value\":0.2},\"fill_color\":{\"type\":\"value\",\"value\":\"green\"},\"fill_alpha\":{\"type\":\"value\",\"value\":0.2},\"hatch_color\":{\"type\":\"value\",\"value\":\"green\"},\"hatch_alpha\":{\"type\":\"value\",\"value\":0.2},\"marker\":{\"type\":\"value\",\"value\":\"star\"}}}}}],\"toolbar\":{\"type\":\"object\",\"name\":\"Toolbar\",\"id\":\"p1142\",\"attributes\":{\"tools\":[{\"type\":\"object\",\"name\":\"WheelZoomTool\",\"id\":\"p1119\",\"attributes\":{\"renderers\":\"auto\",\"zoom_on_axis\":false}},{\"type\":\"object\",\"name\":\"BoxZoomTool\",\"id\":\"p1120\",\"attributes\":{\"overlay\":{\"type\":\"object\",\"name\":\"BoxAnnotation\",\"id\":\"p1006\",\"attributes\":{\"syncable\":false,\"level\":\"overlay\",\"visible\":false,\"left_units\":\"canvas\",\"right_units\":\"canvas\",\"top_units\":\"canvas\",\"bottom_units\":\"canvas\",\"line_color\":\"black\",\"line_alpha\":1.0,\"line_width\":2,\"line_dash\":[4,4],\"fill_color\":\"lightgrey\",\"fill_alpha\":0.5}},\"match_aspect\":true}},{\"type\":\"object\",\"name\":\"HoverTool\",\"id\":\"p1125\",\"attributes\":{\"tags\":[\"hv_created\"],\"renderers\":[{\"id\":\"p1182\"},{\"id\":\"p1206\"}],\"tooltips\":[[\"Lng\",\"$x{custom}\"],[\"Lat\",\"$y{custom}\"],[\"City\",\"@{City}\"],[\"Country\",\"@{Country}\"],[\"Hotel Name\",\"@{Hotel_Name}\"]],\"formatters\":{\"type\":\"map\",\"entries\":[[\"$x\",{\"type\":\"object\",\"name\":\"CustomJSHover\",\"id\":\"p1187\",\"attributes\":{\"code\":\"\\n        const projections = Bokeh.require(\\\"core/util/projections\\\");\\n        const {snap_x, snap_y} = special_vars\\n        const coords = projections.wgs84_mercator.invert(snap_x, snap_y)\\n        return \\\"\\\" + (coords[0]).toFixed(4)\\n    \"}}],[\"$y\",{\"type\":\"object\",\"name\":\"CustomJSHover\",\"id\":\"p1188\",\"attributes\":{\"code\":\"\\n        const projections = Bokeh.require(\\\"core/util/projections\\\");\\n        const {snap_x, snap_y} = special_vars\\n        const coords = projections.wgs84_mercator.invert(snap_x, snap_y)\\n        return \\\"\\\" + (coords[1]).toFixed(4)\\n    \"}}]]}}},{\"type\":\"object\",\"name\":\"PanTool\",\"id\":\"p1156\"},{\"type\":\"object\",\"name\":\"ResetTool\",\"id\":\"p1157\"}],\"active_drag\":{\"id\":\"p1156\"}}},\"left\":[{\"type\":\"object\",\"name\":\"LinearAxis\",\"id\":\"p1150\",\"attributes\":{\"ticker\":{\"type\":\"object\",\"name\":\"MercatorTicker\",\"id\":\"p1160\",\"attributes\":{\"mantissas\":[1,2,5],\"dimension\":\"lat\"}},\"formatter\":{\"type\":\"object\",\"name\":\"MercatorTickFormatter\",\"id\":\"p1161\",\"attributes\":{\"dimension\":\"lat\"}},\"axis_label\":\"Latitude\",\"major_label_policy\":{\"type\":\"object\",\"name\":\"AllLabels\",\"id\":\"p1153\"}}}],\"right\":[{\"type\":\"object\",\"name\":\"Legend\",\"id\":\"p1185\",\"attributes\":{\"location\":[0,0],\"click_policy\":\"mute\",\"items\":[{\"type\":\"object\",\"name\":\"LegendItem\",\"id\":\"p1186\",\"attributes\":{\"label\":{\"type\":\"field\",\"field\":\"color\"},\"renderers\":[{\"id\":\"p1182\"}]}}]}}],\"below\":[{\"type\":\"object\",\"name\":\"LinearAxis\",\"id\":\"p1145\",\"attributes\":{\"ticker\":{\"type\":\"object\",\"name\":\"MercatorTicker\",\"id\":\"p1158\",\"attributes\":{\"mantissas\":[1,2,5],\"dimension\":\"lon\"}},\"formatter\":{\"type\":\"object\",\"name\":\"MercatorTickFormatter\",\"id\":\"p1159\",\"attributes\":{\"dimension\":\"lon\"}},\"axis_label\":\"Longitude\",\"major_label_policy\":{\"type\":\"object\",\"name\":\"AllLabels\",\"id\":\"p1148\"}}}],\"center\":[{\"type\":\"object\",\"name\":\"Grid\",\"id\":\"p1149\",\"attributes\":{\"axis\":{\"id\":\"p1145\"},\"grid_line_color\":null}},{\"type\":\"object\",\"name\":\"Grid\",\"id\":\"p1154\",\"attributes\":{\"dimension\":1,\"axis\":{\"id\":\"p1150\"},\"grid_line_color\":null}}],\"frame_width\":800,\"frame_height\":600,\"min_border_top\":10,\"min_border_bottom\":10,\"min_border_left\":10,\"min_border_right\":10,\"output_backend\":\"webgl\",\"match_aspect\":true}},{\"type\":\"object\",\"name\":\"Spacer\",\"id\":\"p1213\",\"attributes\":{\"name\":\"HSpacer01904\",\"stylesheets\":[\"\\n:host(.pn-loading.pn-arc):before, .pn-loading.pn-arc:before {\\n  background-image: url(\\\"data:image/svg+xml;base64,PHN2ZyB4bWxucz0iaHR0cDovL3d3dy53My5vcmcvMjAwMC9zdmciIHN0eWxlPSJtYXJnaW46IGF1dG87IGJhY2tncm91bmQ6IG5vbmU7IGRpc3BsYXk6IGJsb2NrOyBzaGFwZS1yZW5kZXJpbmc6IGF1dG87IiB2aWV3Qm94PSIwIDAgMTAwIDEwMCIgcHJlc2VydmVBc3BlY3RSYXRpbz0ieE1pZFlNaWQiPiAgPGNpcmNsZSBjeD0iNTAiIGN5PSI1MCIgZmlsbD0ibm9uZSIgc3Ryb2tlPSIjYzNjM2MzIiBzdHJva2Utd2lkdGg9IjEwIiByPSIzNSIgc3Ryb2tlLWRhc2hhcnJheT0iMTY0LjkzMzYxNDMxMzQ2NDE1IDU2Ljk3Nzg3MTQzNzgyMTM4Ij4gICAgPGFuaW1hdGVUcmFuc2Zvcm0gYXR0cmlidXRlTmFtZT0idHJhbnNmb3JtIiB0eXBlPSJyb3RhdGUiIHJlcGVhdENvdW50PSJpbmRlZmluaXRlIiBkdXI9IjFzIiB2YWx1ZXM9IjAgNTAgNTA7MzYwIDUwIDUwIiBrZXlUaW1lcz0iMDsxIj48L2FuaW1hdGVUcmFuc2Zvcm0+ICA8L2NpcmNsZT48L3N2Zz4=\\\");\\n  background-size: auto calc(min(50%, 400px));\\n}\",{\"id\":\"p1098\"},{\"id\":\"p1096\"},{\"id\":\"p1097\"}],\"margin\":0,\"sizing_mode\":\"stretch_width\",\"align\":\"start\"}}]}}],\"defs\":[{\"type\":\"model\",\"name\":\"ReactiveHTML1\"},{\"type\":\"model\",\"name\":\"FlexBox1\",\"properties\":[{\"name\":\"align_content\",\"kind\":\"Any\",\"default\":\"flex-start\"},{\"name\":\"align_items\",\"kind\":\"Any\",\"default\":\"flex-start\"},{\"name\":\"flex_direction\",\"kind\":\"Any\",\"default\":\"row\"},{\"name\":\"flex_wrap\",\"kind\":\"Any\",\"default\":\"wrap\"},{\"name\":\"justify_content\",\"kind\":\"Any\",\"default\":\"flex-start\"}]},{\"type\":\"model\",\"name\":\"FloatPanel1\",\"properties\":[{\"name\":\"config\",\"kind\":\"Any\",\"default\":{\"type\":\"map\"}},{\"name\":\"contained\",\"kind\":\"Any\",\"default\":true},{\"name\":\"position\",\"kind\":\"Any\",\"default\":\"right-top\"},{\"name\":\"offsetx\",\"kind\":\"Any\",\"default\":null},{\"name\":\"offsety\",\"kind\":\"Any\",\"default\":null},{\"name\":\"theme\",\"kind\":\"Any\",\"default\":\"primary\"},{\"name\":\"status\",\"kind\":\"Any\",\"default\":\"normalized\"}]},{\"type\":\"model\",\"name\":\"GridStack1\",\"properties\":[{\"name\":\"mode\",\"kind\":\"Any\",\"default\":\"warn\"},{\"name\":\"ncols\",\"kind\":\"Any\",\"default\":null},{\"name\":\"nrows\",\"kind\":\"Any\",\"default\":null},{\"name\":\"allow_resize\",\"kind\":\"Any\",\"default\":true},{\"name\":\"allow_drag\",\"kind\":\"Any\",\"default\":true},{\"name\":\"state\",\"kind\":\"Any\",\"default\":[]}]},{\"type\":\"model\",\"name\":\"drag1\",\"properties\":[{\"name\":\"slider_width\",\"kind\":\"Any\",\"default\":5},{\"name\":\"slider_color\",\"kind\":\"Any\",\"default\":\"black\"},{\"name\":\"value\",\"kind\":\"Any\",\"default\":50}]},{\"type\":\"model\",\"name\":\"click1\",\"properties\":[{\"name\":\"terminal_output\",\"kind\":\"Any\",\"default\":\"\"},{\"name\":\"debug_name\",\"kind\":\"Any\",\"default\":\"\"},{\"name\":\"clears\",\"kind\":\"Any\",\"default\":0}]},{\"type\":\"model\",\"name\":\"copy_to_clipboard1\",\"properties\":[{\"name\":\"fill\",\"kind\":\"Any\",\"default\":\"none\"},{\"name\":\"value\",\"kind\":\"Any\",\"default\":null}]},{\"type\":\"model\",\"name\":\"FastWrapper1\",\"properties\":[{\"name\":\"object\",\"kind\":\"Any\",\"default\":null},{\"name\":\"style\",\"kind\":\"Any\",\"default\":null}]},{\"type\":\"model\",\"name\":\"NotificationAreaBase1\",\"properties\":[{\"name\":\"js_events\",\"kind\":\"Any\",\"default\":{\"type\":\"map\"}},{\"name\":\"position\",\"kind\":\"Any\",\"default\":\"bottom-right\"},{\"name\":\"_clear\",\"kind\":\"Any\",\"default\":0}]},{\"type\":\"model\",\"name\":\"NotificationArea1\",\"properties\":[{\"name\":\"js_events\",\"kind\":\"Any\",\"default\":{\"type\":\"map\"}},{\"name\":\"notifications\",\"kind\":\"Any\",\"default\":[]},{\"name\":\"position\",\"kind\":\"Any\",\"default\":\"bottom-right\"},{\"name\":\"_clear\",\"kind\":\"Any\",\"default\":0},{\"name\":\"types\",\"kind\":\"Any\",\"default\":[{\"type\":\"map\",\"entries\":[[\"type\",\"warning\"],[\"background\",\"#ffc107\"],[\"icon\",{\"type\":\"map\",\"entries\":[[\"className\",\"fas fa-exclamation-triangle\"],[\"tagName\",\"i\"],[\"color\",\"white\"]]}]]},{\"type\":\"map\",\"entries\":[[\"type\",\"info\"],[\"background\",\"#007bff\"],[\"icon\",{\"type\":\"map\",\"entries\":[[\"className\",\"fas fa-info-circle\"],[\"tagName\",\"i\"],[\"color\",\"white\"]]}]]}]}]},{\"type\":\"model\",\"name\":\"Notification\",\"properties\":[{\"name\":\"background\",\"kind\":\"Any\",\"default\":null},{\"name\":\"duration\",\"kind\":\"Any\",\"default\":3000},{\"name\":\"icon\",\"kind\":\"Any\",\"default\":null},{\"name\":\"message\",\"kind\":\"Any\",\"default\":\"\"},{\"name\":\"notification_type\",\"kind\":\"Any\",\"default\":null},{\"name\":\"_destroyed\",\"kind\":\"Any\",\"default\":false}]},{\"type\":\"model\",\"name\":\"TemplateActions1\",\"properties\":[{\"name\":\"open_modal\",\"kind\":\"Any\",\"default\":0},{\"name\":\"close_modal\",\"kind\":\"Any\",\"default\":0}]},{\"type\":\"model\",\"name\":\"BootstrapTemplateActions1\",\"properties\":[{\"name\":\"open_modal\",\"kind\":\"Any\",\"default\":0},{\"name\":\"close_modal\",\"kind\":\"Any\",\"default\":0}]},{\"type\":\"model\",\"name\":\"MaterialTemplateActions1\",\"properties\":[{\"name\":\"open_modal\",\"kind\":\"Any\",\"default\":0},{\"name\":\"close_modal\",\"kind\":\"Any\",\"default\":0}]}]}};\n",
       "  var render_items = [{\"docid\":\"c16e05d8-7e63-47bc-81ba-ec231574510d\",\"roots\":{\"p1095\":\"c8c6cef4-dc67-40d7-b565-ba55b806aa48\"},\"root_ids\":[\"p1095\"]}];\n",
       "  var docs = Object.values(docs_json)\n",
       "  if (!docs) {\n",
       "    return\n",
       "  }\n",
       "  const py_version = docs[0].version.replace('rc', '-rc.').replace('.dev', '-dev.')\n",
       "  function embed_document(root) {\n",
       "    var Bokeh = get_bokeh(root)\n",
       "    Bokeh.embed.embed_items_notebook(docs_json, render_items);\n",
       "    for (const render_item of render_items) {\n",
       "      for (const root_id of render_item.root_ids) {\n",
       "\tconst id_el = document.getElementById(root_id)\n",
       "\tif (id_el.children.length && (id_el.children[0].className === 'bk-root')) {\n",
       "\t  const root_el = id_el.children[0]\n",
       "\t  root_el.id = root_el.id + '-rendered'\n",
       "\t}\n",
       "      }\n",
       "    }\n",
       "  }\n",
       "  function get_bokeh(root) {\n",
       "    if (root.Bokeh === undefined) {\n",
       "      return null\n",
       "    } else if (root.Bokeh.version !== py_version) {\n",
       "      if (root.Bokeh.versions === undefined || !root.Bokeh.versions.has(py_version)) {\n",
       "\treturn null\n",
       "      }\n",
       "      return root.Bokeh.versions.get(py_version);\n",
       "    } else if (root.Bokeh.version === py_version) {\n",
       "      return root.Bokeh\n",
       "    }\n",
       "    return null\n",
       "  }\n",
       "  function is_loaded(root) {\n",
       "    var Bokeh = get_bokeh(root)\n",
       "    return (Bokeh != null && Bokeh.Panel !== undefined)\n",
       "  }\n",
       "  if (is_loaded(root)) {\n",
       "    embed_document(root);\n",
       "  } else {\n",
       "    var attempts = 0;\n",
       "    var timer = setInterval(function(root) {\n",
       "      if (is_loaded(root)) {\n",
       "        clearInterval(timer);\n",
       "        embed_document(root);\n",
       "      } else if (document.readyState == \"complete\") {\n",
       "        attempts++;\n",
       "        if (attempts > 200) {\n",
       "          clearInterval(timer);\n",
       "\t  var Bokeh = get_bokeh(root)\n",
       "\t  if (Bokeh == null || Bokeh.Panel == null) {\n",
       "            console.warn(\"Panel: ERROR: Unable to run Panel code because Bokeh or Panel library is missing\");\n",
       "\t  } else {\n",
       "\t    console.warn(\"Panel: WARNING: Attempting to render but not all required libraries could be resolved.\")\n",
       "\t    embed_document(root)\n",
       "\t  }\n",
       "        }\n",
       "      }\n",
       "    }, 25, root)\n",
       "  }\n",
       "})(window);</script>"
      ],
      "text/plain": [
       ":Overlay\n",
       "   .WMTS.I    :WMTS   [Longitude,Latitude]\n",
       "   .Points.I  :Points   [Lng,Lat]   (City,Country,Hotel Name)\n",
       "   .WMTS.II   :WMTS   [Longitude,Latitude]\n",
       "   .Points.II :Points   [Lng,Lat]   (City,Country,Hotel Name)"
      ]
     },
     "execution_count": 15,
     "metadata": {
      "application/vnd.holoviews_exec.v0+json": {
       "id": "p1095"
      }
     },
     "output_type": "execute_result"
    }
   ],
   "source": [
    "%%capture --no-display\n",
    "import hvplot.pandas\n",
    "\n",
    "# Configure the map plot for cities\n",
    "city_plot = hotel_df.hvplot.points(\n",
    "    \"Lng\",\n",
    "    \"Lat\",\n",
    "    geo=True,\n",
    "    tiles=\"OSM\",\n",
    "    frame_width=800,\n",
    "    frame_height=600,\n",
    "    size=15, \n",
    "    color=\"City\",\n",
    "    hover_cols=[\"City\", \"Country\", \"Hotel Name\"] \n",
    ")\n",
    "\n",
    "# Filter to hotels found\n",
    "hotel_df_found = hotel_df[hotel_df[\"Hotel Name\"] != \"No hotel found\"]\n",
    "\n",
    "# Configure the map plot for hotels\n",
    "hotel_plot = hotel_df_found.hvplot.points(\n",
    "    \"Lng\",\n",
    "    \"Lat\",\n",
    "    geo=True,\n",
    "    tiles='OSM',\n",
    "    frame_width=800,\n",
    "    frame_height=600,\n",
    "    size=15,\n",
    "    color=\"green\",\n",
    "    marker=\"star\",\n",
    "    hover_cols=[\"City\", \"Country\", \"Hotel Name\"]  \n",
    ")\n",
    "# Combine both plots\n",
    "combined_plot = city_plot * hotel_plot\n",
    "# Display the map\n",
    "combined_plot\n"
   ]
  },
  {
   "cell_type": "code",
   "execution_count": null,
   "metadata": {},
   "outputs": [],
   "source": []
  }
 ],
 "metadata": {
  "kernelspec": {
   "display_name": "Python 3 (ipykernel)",
   "language": "python",
   "name": "python3"
  },
  "language_info": {
   "codemirror_mode": {
    "name": "ipython",
    "version": 3
   },
   "file_extension": ".py",
   "mimetype": "text/x-python",
   "name": "python",
   "nbconvert_exporter": "python",
   "pygments_lexer": "ipython3",
   "version": "3.11.7"
  },
  "latex_envs": {
   "LaTeX_envs_menu_present": true,
   "autoclose": false,
   "autocomplete": true,
   "bibliofile": "biblio.bib",
   "cite_by": "apalike",
   "current_citInitial": 1,
   "eqLabelWithNumbers": true,
   "eqNumInitial": 1,
   "hotkeys": {
    "equation": "Ctrl-E",
    "itemize": "Ctrl-I"
   },
   "labels_anchors": false,
   "latex_user_defs": false,
   "report_style_numbering": false,
   "user_envs_cfg": false
  }
 },
 "nbformat": 4,
 "nbformat_minor": 4
}
